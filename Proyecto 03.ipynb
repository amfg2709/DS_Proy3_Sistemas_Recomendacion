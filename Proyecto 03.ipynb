{
 "cells": [
  {
   "cell_type": "markdown",
   "metadata": {
    "id": "gzJLet17WTzh"
   },
   "source": [
    "# Proyecto 03 - Sistemas de Recomendación\n",
    "\n",
    "## Dataset: STEAM\n",
    "\n",
    "**Recuerda descargar el dataset de [aquí](https://github.com/kang205/SASRec). Son dos archivos, uno de calificaciones y otro de información sobre los juegos.**\n",
    "\n",
    "En este notebook te dejamos unas celdas para que puedas comenzar a trabajar con este dataset. Sin embargo, **deberás** modificarlas para hacer un mejor manejo de datos. Algunas cosas a las que deberás prestar atención (tal vez no a todas):\n",
    "1. Tipos de datos: elige tipos de datos apropiados para cada columna.\n",
    "2. Descartar columnas poco informativas.\n",
    "3. Guardar en memoria datasets preprocesados para no tener que repetir código que tarde en correr.\n",
    "\n",
    "### A. Exploración de datos\n",
    "\n",
    "Dedícale un buen tiempo a hacer un Análisis Exploratorio de Datos. Elige preguntas que creas que puedas responder con este dataset. Por ejemplo, ¿cuáles son los juegos más populares?¿Y los menos populares?\n",
    "\n",
    "### B. Filtro Colaborativo\n",
    "\n",
    "Deberás implementar un sistema de recomendación colaborativo para este dataset. Ten en cuenta:\n",
    "\n",
    "1. Haz todas las transformaciones de datos que consideres necesarias. Justifica.\n",
    "1. Evalúa de forma apropiada sus resultados. Justifica la métrica elegida.\n",
    "1. Elige modelo benchmark y compara tus resultados con este modelo.\n",
    "1. Optimiza los hiperparámetros de tu modelo.\n",
    "\n",
    "Puedes implementar un filtro colaborativo a partir de la similitud coseno o índice de Jaccard. ¿Puedes utilizar los métodos de la librería Surprise? Si no es así, busca implementaciones (por ejemplo, nuevas librerías) que sean apropiadas.\n",
    "\n",
    "Para comenzar a trabajar, puedes asumir que cada entrada es un enlace entre una persona usuaria y un item, **independientemente** de si la crítica es buena o mala. \n",
    "\n",
    "### C. Para pensar, investigar y, opcionalmente, implementar\n",
    "1. ¿Cómo harías para ponerle un valor a la calificación?\n",
    "1. ¿Cómo harías para agregar contenido? Por ejemplo, cuentas con el género, precio, fecha de lanzamiento y más información de los juegos.\n",
    "1. ¿Hay algo que te gustaría investigar o probar?\n",
    "\n",
    "### **¡Tómate tiempo para investigar y leer mucho!**"
   ]
  },
  {
   "cell_type": "code",
   "execution_count": 1,
   "metadata": {
    "id": "lWZhtUxEWTzj"
   },
   "outputs": [],
   "source": [
    "import gzip\n",
    "import pandas as pd\n",
    "\n",
    "def parse(path):\n",
    "    g = gzip.open(path, 'r')\n",
    "    for l in g:\n",
    "        yield eval(l)"
   ]
  },
  {
   "cell_type": "markdown",
   "metadata": {
    "id": "BmEM25k4WTzw"
   },
   "source": [
    "**Reviews: organización de data**"
   ]
  },
  {
   "cell_type": "code",
   "execution_count": 2,
   "metadata": {
    "id": "abAXItn1WTz0"
   },
   "outputs": [],
   "source": [
    "contador = 0\n",
    "data_reviews = []\n",
    "# Vamos a guardar una de cada 10 reviews para no llenar la memoria RAM. Si pones n = 3, \n",
    "# abrira uno de cada tres, y asi.\n",
    "n = 10\n",
    "for l in parse('steam_reviews.json.gz'):\n",
    "    if contador%n == 0:\n",
    "        data_reviews.append(l)\n",
    "    else:\n",
    "        pass\n",
    "    contador += 1"
   ]
  },
  {
   "cell_type": "code",
   "execution_count": 3,
   "metadata": {
    "id": "7GovAZQBWTz8"
   },
   "outputs": [],
   "source": [
    "data_reviews = pd.DataFrame(data_reviews)"
   ]
  },
  {
   "cell_type": "code",
   "execution_count": 4,
   "metadata": {
    "id": "j24F0ZaYWT0E"
   },
   "outputs": [
    {
     "data": {
      "text/html": [
       "<div>\n",
       "<style scoped>\n",
       "    .dataframe tbody tr th:only-of-type {\n",
       "        vertical-align: middle;\n",
       "    }\n",
       "\n",
       "    .dataframe tbody tr th {\n",
       "        vertical-align: top;\n",
       "    }\n",
       "\n",
       "    .dataframe thead th {\n",
       "        text-align: right;\n",
       "    }\n",
       "</style>\n",
       "<table border=\"1\" class=\"dataframe\">\n",
       "  <thead>\n",
       "    <tr style=\"text-align: right;\">\n",
       "      <th></th>\n",
       "      <th>username</th>\n",
       "      <th>hours</th>\n",
       "      <th>products</th>\n",
       "      <th>product_id</th>\n",
       "      <th>page_order</th>\n",
       "      <th>date</th>\n",
       "      <th>text</th>\n",
       "      <th>early_access</th>\n",
       "      <th>page</th>\n",
       "      <th>user_id</th>\n",
       "      <th>compensation</th>\n",
       "      <th>found_funny</th>\n",
       "    </tr>\n",
       "  </thead>\n",
       "  <tbody>\n",
       "    <tr>\n",
       "      <th>0</th>\n",
       "      <td>Chaos Syren</td>\n",
       "      <td>0.1</td>\n",
       "      <td>41.0</td>\n",
       "      <td>725280</td>\n",
       "      <td>0</td>\n",
       "      <td>2017-12-17</td>\n",
       "      <td>This would not be acceptable as an entertainme...</td>\n",
       "      <td>False</td>\n",
       "      <td>1</td>\n",
       "      <td>NaN</td>\n",
       "      <td>NaN</td>\n",
       "      <td>NaN</td>\n",
       "    </tr>\n",
       "    <tr>\n",
       "      <th>1</th>\n",
       "      <td>Ariman1</td>\n",
       "      <td>13.2</td>\n",
       "      <td>1386.0</td>\n",
       "      <td>328100</td>\n",
       "      <td>2</td>\n",
       "      <td>2017-08-02</td>\n",
       "      <td>Addictive RPG ! Works fine on linux though it ...</td>\n",
       "      <td>False</td>\n",
       "      <td>1</td>\n",
       "      <td>NaN</td>\n",
       "      <td>NaN</td>\n",
       "      <td>NaN</td>\n",
       "    </tr>\n",
       "    <tr>\n",
       "      <th>2</th>\n",
       "      <td>freakfantom</td>\n",
       "      <td>0.1</td>\n",
       "      <td>1706.0</td>\n",
       "      <td>725280</td>\n",
       "      <td>5</td>\n",
       "      <td>2017-11-12</td>\n",
       "      <td>Прикольная стрелялка. Взял дешево на распродаже.</td>\n",
       "      <td>False</td>\n",
       "      <td>1</td>\n",
       "      <td>NaN</td>\n",
       "      <td>NaN</td>\n",
       "      <td>NaN</td>\n",
       "    </tr>\n",
       "    <tr>\n",
       "      <th>3</th>\n",
       "      <td>The_Cpt_FROGGY</td>\n",
       "      <td>7.8</td>\n",
       "      <td>2217.0</td>\n",
       "      <td>631920</td>\n",
       "      <td>0</td>\n",
       "      <td>2017-12-11</td>\n",
       "      <td>Somewhere on Zibylon:\\n~~~~~~~~~~~~~~~~~~\\nZib...</td>\n",
       "      <td>False</td>\n",
       "      <td>1</td>\n",
       "      <td>76561198003030375</td>\n",
       "      <td>Product received for free</td>\n",
       "      <td>NaN</td>\n",
       "    </tr>\n",
       "    <tr>\n",
       "      <th>4</th>\n",
       "      <td>the_maker988</td>\n",
       "      <td>8.2</td>\n",
       "      <td>18.0</td>\n",
       "      <td>35140</td>\n",
       "      <td>7</td>\n",
       "      <td>2018-01-02</td>\n",
       "      <td>This game was way to linear for me, and compar...</td>\n",
       "      <td>False</td>\n",
       "      <td>1</td>\n",
       "      <td>76561198353396844</td>\n",
       "      <td>NaN</td>\n",
       "      <td>NaN</td>\n",
       "    </tr>\n",
       "  </tbody>\n",
       "</table>\n",
       "</div>"
      ],
      "text/plain": [
       "         username  hours  products product_id  page_order        date  \\\n",
       "0     Chaos Syren    0.1      41.0     725280           0  2017-12-17   \n",
       "1         Ariman1   13.2    1386.0     328100           2  2017-08-02   \n",
       "2     freakfantom    0.1    1706.0     725280           5  2017-11-12   \n",
       "3  The_Cpt_FROGGY    7.8    2217.0     631920           0  2017-12-11   \n",
       "4    the_maker988    8.2      18.0      35140           7  2018-01-02   \n",
       "\n",
       "                                                text  early_access  page  \\\n",
       "0  This would not be acceptable as an entertainme...         False     1   \n",
       "1  Addictive RPG ! Works fine on linux though it ...         False     1   \n",
       "2   Прикольная стрелялка. Взял дешево на распродаже.         False     1   \n",
       "3  Somewhere on Zibylon:\\n~~~~~~~~~~~~~~~~~~\\nZib...         False     1   \n",
       "4  This game was way to linear for me, and compar...         False     1   \n",
       "\n",
       "             user_id               compensation  found_funny  \n",
       "0                NaN                        NaN          NaN  \n",
       "1                NaN                        NaN          NaN  \n",
       "2                NaN                        NaN          NaN  \n",
       "3  76561198003030375  Product received for free          NaN  \n",
       "4  76561198353396844                        NaN          NaN  "
      ]
     },
     "execution_count": 4,
     "metadata": {},
     "output_type": "execute_result"
    }
   ],
   "source": [
    "data_reviews.head()"
   ]
  },
  {
   "cell_type": "markdown",
   "metadata": {},
   "source": [
    "**Se crea un dataset del archivo original, el cual queda con un poco menos de registros pero con las mismas columnas, en este dataset se ven campos relevantes como el nombre del juego, del usuario, las horas jugadas**"
   ]
  },
  {
   "cell_type": "code",
   "execution_count": 353,
   "metadata": {},
   "outputs": [],
   "source": [
    "#Creo el archivo new_data_reviews.csv con la información del dataset data_reviews, esto con el fin de no tener que generarlo \n",
    "#cada vez que lo requiera\n",
    "data_reviews.to_csv('new_data_reviews.csv')"
   ]
  },
  {
   "cell_type": "markdown",
   "metadata": {
    "id": "04ed3teRWT0T"
   },
   "source": [
    "#### Games: organización de data"
   ]
  },
  {
   "cell_type": "code",
   "execution_count": 6,
   "metadata": {
    "id": "8wRb24Y5WT0U"
   },
   "outputs": [],
   "source": [
    "data_games = []\n",
    "for l in parse('steam_games.json.gz'):\n",
    "    data_games.append(l)\n",
    "data_games = pd.DataFrame(data_games)"
   ]
  },
  {
   "cell_type": "code",
   "execution_count": 354,
   "metadata": {
    "id": "sVR0Cs6SWT0b"
   },
   "outputs": [
    {
     "data": {
      "text/html": [
       "<div>\n",
       "<style scoped>\n",
       "    .dataframe tbody tr th:only-of-type {\n",
       "        vertical-align: middle;\n",
       "    }\n",
       "\n",
       "    .dataframe tbody tr th {\n",
       "        vertical-align: top;\n",
       "    }\n",
       "\n",
       "    .dataframe thead th {\n",
       "        text-align: right;\n",
       "    }\n",
       "</style>\n",
       "<table border=\"1\" class=\"dataframe\">\n",
       "  <thead>\n",
       "    <tr style=\"text-align: right;\">\n",
       "      <th></th>\n",
       "      <th>publisher</th>\n",
       "      <th>genres</th>\n",
       "      <th>app_name</th>\n",
       "      <th>title</th>\n",
       "      <th>url</th>\n",
       "      <th>release_date</th>\n",
       "      <th>tags</th>\n",
       "      <th>discount_price</th>\n",
       "      <th>reviews_url</th>\n",
       "      <th>specs</th>\n",
       "      <th>price</th>\n",
       "      <th>early_access</th>\n",
       "      <th>id</th>\n",
       "      <th>developer</th>\n",
       "      <th>sentiment</th>\n",
       "      <th>metascore</th>\n",
       "    </tr>\n",
       "  </thead>\n",
       "  <tbody>\n",
       "    <tr>\n",
       "      <th>0</th>\n",
       "      <td>Kotoshiro</td>\n",
       "      <td>[Action, Casual, Indie, Simulation, Strategy]</td>\n",
       "      <td>Lost Summoner Kitty</td>\n",
       "      <td>Lost Summoner Kitty</td>\n",
       "      <td>http://store.steampowered.com/app/761140/Lost_...</td>\n",
       "      <td>2018-01-04</td>\n",
       "      <td>[Strategy, Action, Indie, Casual, Simulation]</td>\n",
       "      <td>4.49</td>\n",
       "      <td>http://steamcommunity.com/app/761140/reviews/?...</td>\n",
       "      <td>[Single-player]</td>\n",
       "      <td>4.99</td>\n",
       "      <td>False</td>\n",
       "      <td>761140</td>\n",
       "      <td>Kotoshiro</td>\n",
       "      <td>NaN</td>\n",
       "      <td>NaN</td>\n",
       "    </tr>\n",
       "    <tr>\n",
       "      <th>1</th>\n",
       "      <td>Making Fun, Inc.</td>\n",
       "      <td>[Free to Play, Indie, RPG, Strategy]</td>\n",
       "      <td>Ironbound</td>\n",
       "      <td>Ironbound</td>\n",
       "      <td>http://store.steampowered.com/app/643980/Ironb...</td>\n",
       "      <td>2018-01-04</td>\n",
       "      <td>[Free to Play, Strategy, Indie, RPG, Card Game...</td>\n",
       "      <td>NaN</td>\n",
       "      <td>http://steamcommunity.com/app/643980/reviews/?...</td>\n",
       "      <td>[Single-player, Multi-player, Online Multi-Pla...</td>\n",
       "      <td>Free To Play</td>\n",
       "      <td>False</td>\n",
       "      <td>643980</td>\n",
       "      <td>Secret Level SRL</td>\n",
       "      <td>Mostly Positive</td>\n",
       "      <td>NaN</td>\n",
       "    </tr>\n",
       "    <tr>\n",
       "      <th>2</th>\n",
       "      <td>Poolians.com</td>\n",
       "      <td>[Casual, Free to Play, Indie, Simulation, Sports]</td>\n",
       "      <td>Real Pool 3D - Poolians</td>\n",
       "      <td>Real Pool 3D - Poolians</td>\n",
       "      <td>http://store.steampowered.com/app/670290/Real_...</td>\n",
       "      <td>2017-07-24</td>\n",
       "      <td>[Free to Play, Simulation, Sports, Casual, Ind...</td>\n",
       "      <td>NaN</td>\n",
       "      <td>http://steamcommunity.com/app/670290/reviews/?...</td>\n",
       "      <td>[Single-player, Multi-player, Online Multi-Pla...</td>\n",
       "      <td>Free to Play</td>\n",
       "      <td>False</td>\n",
       "      <td>670290</td>\n",
       "      <td>Poolians.com</td>\n",
       "      <td>Mostly Positive</td>\n",
       "      <td>NaN</td>\n",
       "    </tr>\n",
       "  </tbody>\n",
       "</table>\n",
       "</div>"
      ],
      "text/plain": [
       "          publisher                                             genres  \\\n",
       "0         Kotoshiro      [Action, Casual, Indie, Simulation, Strategy]   \n",
       "1  Making Fun, Inc.               [Free to Play, Indie, RPG, Strategy]   \n",
       "2      Poolians.com  [Casual, Free to Play, Indie, Simulation, Sports]   \n",
       "\n",
       "                  app_name                    title  \\\n",
       "0      Lost Summoner Kitty      Lost Summoner Kitty   \n",
       "1                Ironbound                Ironbound   \n",
       "2  Real Pool 3D - Poolians  Real Pool 3D - Poolians   \n",
       "\n",
       "                                                 url release_date  \\\n",
       "0  http://store.steampowered.com/app/761140/Lost_...   2018-01-04   \n",
       "1  http://store.steampowered.com/app/643980/Ironb...   2018-01-04   \n",
       "2  http://store.steampowered.com/app/670290/Real_...   2017-07-24   \n",
       "\n",
       "                                                tags  discount_price  \\\n",
       "0      [Strategy, Action, Indie, Casual, Simulation]            4.49   \n",
       "1  [Free to Play, Strategy, Indie, RPG, Card Game...             NaN   \n",
       "2  [Free to Play, Simulation, Sports, Casual, Ind...             NaN   \n",
       "\n",
       "                                         reviews_url  \\\n",
       "0  http://steamcommunity.com/app/761140/reviews/?...   \n",
       "1  http://steamcommunity.com/app/643980/reviews/?...   \n",
       "2  http://steamcommunity.com/app/670290/reviews/?...   \n",
       "\n",
       "                                               specs         price  \\\n",
       "0                                    [Single-player]          4.99   \n",
       "1  [Single-player, Multi-player, Online Multi-Pla...  Free To Play   \n",
       "2  [Single-player, Multi-player, Online Multi-Pla...  Free to Play   \n",
       "\n",
       "   early_access      id         developer        sentiment metascore  \n",
       "0         False  761140         Kotoshiro              NaN       NaN  \n",
       "1         False  643980  Secret Level SRL  Mostly Positive       NaN  \n",
       "2         False  670290      Poolians.com  Mostly Positive       NaN  "
      ]
     },
     "execution_count": 354,
     "metadata": {},
     "output_type": "execute_result"
    }
   ],
   "source": [
    "data_games.head(3)"
   ]
  },
  {
   "cell_type": "markdown",
   "metadata": {},
   "source": [
    "__Sacamos un dataset del archivos de juegos y podemos observar columnas relevantes para recomendar como sentiment, metascore, genres,tags__"
   ]
  },
  {
   "cell_type": "code",
   "execution_count": 9,
   "metadata": {},
   "outputs": [],
   "source": [
    "## Creamos el archivo new_data_games.csv para no tener que generarlo cada vez que lo necesitemos\n",
    "data_games.to_csv('new_data_games.csv')"
   ]
  },
  {
   "cell_type": "markdown",
   "metadata": {},
   "source": [
    "### A. ANÁLISIS EXPLORATORIO DE DATOS"
   ]
  },
  {
   "cell_type": "markdown",
   "metadata": {},
   "source": [
    "#### - ANÁLISIS INICIAL"
   ]
  },
  {
   "cell_type": "markdown",
   "metadata": {},
   "source": [
    "__Qué es Steam?__  \n",
    "Steam es una plataforma digital de video juegos desarrollada por Valve, nació en septiembre del 2003, con alrededor de 75 millones de usuarios activos, alrededor de 172 millones de cuentas en total, que aloja más de 3000 juegos, lo que lo convierte en una plataforma ideal para el tipo de trabajo que aquí se presenta. El conjunto de datos contiene registros de más de 3000 juegos y aplicaciones.  Steam se lanzó como un cliente de software independiente, como una forma de que Valve proporcionara actualizaciones automáticas para sus juegos y se expandió para incluir juegos de editores externos. \n",
    "\n",
    "De acuerdo con la popularidad del juego, la similitud de la descripción del juego, la calidad del juego y la preferencia del jugador por el juego, recomiendan el juego correspondiente al jugador del juego, de modo que Steam obtenga un mayor grado de satisfacción del cliente."
   ]
  },
  {
   "cell_type": "markdown",
   "metadata": {},
   "source": [
    "__Se importan las librerías necesarias para trabajar en la consigna__"
   ]
  },
  {
   "cell_type": "code",
   "execution_count": 357,
   "metadata": {},
   "outputs": [],
   "source": [
    "import numpy as np\n",
    "import matplotlib.pyplot as plt\n",
    "import seaborn as sns\n",
    "sns.set()\n",
    "\n",
    "import pandas as pd\n",
    "\n",
    "import gc # garbage collector\n",
    "\n",
    "from surprise import Dataset   \n",
    "from surprise import Reader # lector de Surprise!\n",
    "from surprise.model_selection import train_test_split\n",
    "# quita calificacione de usuario-película de forma aleatoria s/ toda la matriz de utilidad, teniendo cuidado de no quitarle..\n",
    "# ..todas las calificaciones a un usuario ni a una película\n",
    "import os\n",
    "from collections import defaultdict\n",
    "from surprise import SVD, SVDpp, SlopeOne, NMF, NormalPredictor, KNNBaseline, KNNBasic, KNNWithMeans, KNNWithZScore, BaselineOnly, CoClustering \n",
    "from surprise import accuracy\n",
    "from surprise.model_selection import cross_validate\n",
    "from surprise.model_selection import GridSearchCV\n",
    "import warnings\n"
   ]
  },
  {
   "cell_type": "markdown",
   "metadata": {},
   "source": [
    "#### DATA REVIEW"
   ]
  },
  {
   "cell_type": "code",
   "execution_count": 358,
   "metadata": {},
   "outputs": [],
   "source": [
    "##Cargamos el archivo new_data_reviews, archivo con extension .csv que tiene información de las\n",
    "## reseñas dadas por los usuarios\n",
    "new_data_review = pd.read_csv('new_data_reviews.csv')"
   ]
  },
  {
   "cell_type": "code",
   "execution_count": 359,
   "metadata": {},
   "outputs": [
    {
     "data": {
      "text/plain": [
       "(779307, 13)"
      ]
     },
     "execution_count": 359,
     "metadata": {},
     "output_type": "execute_result"
    }
   ],
   "source": [
    "new_data_review.shape # Filas y columnas"
   ]
  },
  {
   "cell_type": "markdown",
   "metadata": {},
   "source": [
    "* *El Dataset de reseñas, cuenta con **779.307 Filas**, y **13 Columnas**.*"
   ]
  },
  {
   "cell_type": "code",
   "execution_count": 360,
   "metadata": {},
   "outputs": [
    {
     "data": {
      "text/html": [
       "<div>\n",
       "<style scoped>\n",
       "    .dataframe tbody tr th:only-of-type {\n",
       "        vertical-align: middle;\n",
       "    }\n",
       "\n",
       "    .dataframe tbody tr th {\n",
       "        vertical-align: top;\n",
       "    }\n",
       "\n",
       "    .dataframe thead th {\n",
       "        text-align: right;\n",
       "    }\n",
       "</style>\n",
       "<table border=\"1\" class=\"dataframe\">\n",
       "  <thead>\n",
       "    <tr style=\"text-align: right;\">\n",
       "      <th></th>\n",
       "      <th>Unnamed: 0</th>\n",
       "      <th>username</th>\n",
       "      <th>hours</th>\n",
       "      <th>products</th>\n",
       "      <th>product_id</th>\n",
       "      <th>page_order</th>\n",
       "      <th>date</th>\n",
       "      <th>text</th>\n",
       "      <th>early_access</th>\n",
       "      <th>page</th>\n",
       "      <th>user_id</th>\n",
       "      <th>compensation</th>\n",
       "      <th>found_funny</th>\n",
       "    </tr>\n",
       "  </thead>\n",
       "  <tbody>\n",
       "    <tr>\n",
       "      <th>0</th>\n",
       "      <td>0</td>\n",
       "      <td>Chaos Syren</td>\n",
       "      <td>0.1</td>\n",
       "      <td>41.0</td>\n",
       "      <td>725280</td>\n",
       "      <td>0</td>\n",
       "      <td>2017-12-17</td>\n",
       "      <td>This would not be acceptable as an entertainme...</td>\n",
       "      <td>False</td>\n",
       "      <td>1</td>\n",
       "      <td>NaN</td>\n",
       "      <td>NaN</td>\n",
       "      <td>NaN</td>\n",
       "    </tr>\n",
       "    <tr>\n",
       "      <th>1</th>\n",
       "      <td>1</td>\n",
       "      <td>Ariman1</td>\n",
       "      <td>13.2</td>\n",
       "      <td>1386.0</td>\n",
       "      <td>328100</td>\n",
       "      <td>2</td>\n",
       "      <td>2017-08-02</td>\n",
       "      <td>Addictive RPG ! Works fine on linux though it ...</td>\n",
       "      <td>False</td>\n",
       "      <td>1</td>\n",
       "      <td>NaN</td>\n",
       "      <td>NaN</td>\n",
       "      <td>NaN</td>\n",
       "    </tr>\n",
       "    <tr>\n",
       "      <th>2</th>\n",
       "      <td>2</td>\n",
       "      <td>freakfantom</td>\n",
       "      <td>0.1</td>\n",
       "      <td>1706.0</td>\n",
       "      <td>725280</td>\n",
       "      <td>5</td>\n",
       "      <td>2017-11-12</td>\n",
       "      <td>Прикольная стрелялка. Взял дешево на распродаже.</td>\n",
       "      <td>False</td>\n",
       "      <td>1</td>\n",
       "      <td>NaN</td>\n",
       "      <td>NaN</td>\n",
       "      <td>NaN</td>\n",
       "    </tr>\n",
       "  </tbody>\n",
       "</table>\n",
       "</div>"
      ],
      "text/plain": [
       "   Unnamed: 0     username  hours  products  product_id  page_order  \\\n",
       "0           0  Chaos Syren    0.1      41.0      725280           0   \n",
       "1           1      Ariman1   13.2    1386.0      328100           2   \n",
       "2           2  freakfantom    0.1    1706.0      725280           5   \n",
       "\n",
       "         date                                               text  \\\n",
       "0  2017-12-17  This would not be acceptable as an entertainme...   \n",
       "1  2017-08-02  Addictive RPG ! Works fine on linux though it ...   \n",
       "2  2017-11-12   Прикольная стрелялка. Взял дешево на распродаже.   \n",
       "\n",
       "   early_access  page  user_id compensation  found_funny  \n",
       "0         False     1      NaN          NaN          NaN  \n",
       "1         False     1      NaN          NaN          NaN  \n",
       "2         False     1      NaN          NaN          NaN  "
      ]
     },
     "execution_count": 360,
     "metadata": {},
     "output_type": "execute_result"
    }
   ],
   "source": [
    "new_data_review.head(3) # Primeras 3 instancias (filas)"
   ]
  },
  {
   "cell_type": "code",
   "execution_count": 361,
   "metadata": {},
   "outputs": [
    {
     "name": "stdout",
     "output_type": "stream",
     "text": [
      "<class 'pandas.core.frame.DataFrame'>\n",
      "RangeIndex: 779307 entries, 0 to 779306\n",
      "Data columns (total 13 columns):\n",
      " #   Column        Non-Null Count   Dtype  \n",
      "---  ------        --------------   -----  \n",
      " 0   Unnamed: 0    779307 non-null  int64  \n",
      " 1   username      779289 non-null  object \n",
      " 2   hours         776670 non-null  float64\n",
      " 3   products      777741 non-null  float64\n",
      " 4   product_id    779307 non-null  int64  \n",
      " 5   page_order    779307 non-null  int64  \n",
      " 6   date          779307 non-null  object \n",
      " 7   text          777468 non-null  object \n",
      " 8   early_access  779307 non-null  bool   \n",
      " 9   page          779307 non-null  int64  \n",
      " 10  user_id       317340 non-null  float64\n",
      " 11  compensation  14588 non-null   object \n",
      " 12  found_funny   120164 non-null  float64\n",
      "dtypes: bool(1), float64(4), int64(4), object(4)\n",
      "memory usage: 72.1+ MB\n"
     ]
    }
   ],
   "source": [
    "new_data_review.info()"
   ]
  },
  {
   "cell_type": "markdown",
   "metadata": {},
   "source": [
    "__new_data_reviews.csv:__ Tiene informacion sobre las reseñas que realizaron los usuarios sobre los juegos que bajaron en dicha plataforma. Aquí la descripción de algunos de sus principales atributos son:\n",
    "- \"username\" \n",
    "- \"hours\"(horas que ese usuario jugo a ese juego)\n",
    "- \"products\" (es la cantidad de productos que el usuario compro en la plataforma)?\n",
    "- \"product_id\" (identificacion numerica y unica del juego)\n",
    "- \"date\" (fecha en que el usuario realizo la reseña)\n",
    "- \"text\" (texto con observaciones del usuario)\n",
    "- \"user_id\" (id del usuario que realiza la reseña o calificación)\n",
    "- \"found_funny\" (las reseñas que realiza el usuario pueden ser marcadas como \"funnys\" por otros usuarios. Este indicador numerico es la cantidad de \"calificaciones funny\" que su reseña obtuvo)"
   ]
  },
  {
   "cell_type": "code",
   "execution_count": 362,
   "metadata": {},
   "outputs": [
    {
     "data": {
      "text/html": [
       "<div>\n",
       "<style scoped>\n",
       "    .dataframe tbody tr th:only-of-type {\n",
       "        vertical-align: middle;\n",
       "    }\n",
       "\n",
       "    .dataframe tbody tr th {\n",
       "        vertical-align: top;\n",
       "    }\n",
       "\n",
       "    .dataframe thead th {\n",
       "        text-align: right;\n",
       "    }\n",
       "</style>\n",
       "<table border=\"1\" class=\"dataframe\">\n",
       "  <thead>\n",
       "    <tr style=\"text-align: right;\">\n",
       "      <th></th>\n",
       "      <th>Unnamed: 0</th>\n",
       "      <th>hours</th>\n",
       "      <th>products</th>\n",
       "      <th>product_id</th>\n",
       "      <th>page_order</th>\n",
       "      <th>page</th>\n",
       "      <th>user_id</th>\n",
       "      <th>found_funny</th>\n",
       "    </tr>\n",
       "  </thead>\n",
       "  <tbody>\n",
       "    <tr>\n",
       "      <th>count</th>\n",
       "      <td>779307.0</td>\n",
       "      <td>776670.0</td>\n",
       "      <td>777741.0</td>\n",
       "      <td>779307.0</td>\n",
       "      <td>779307.0</td>\n",
       "      <td>779307.0</td>\n",
       "      <td>3.173400e+05</td>\n",
       "      <td>120164.0</td>\n",
       "    </tr>\n",
       "    <tr>\n",
       "      <th>mean</th>\n",
       "      <td>389653.0</td>\n",
       "      <td>111.8</td>\n",
       "      <td>237.0</td>\n",
       "      <td>251489.8</td>\n",
       "      <td>4.4</td>\n",
       "      <td>893.6</td>\n",
       "      <td>7.656120e+16</td>\n",
       "      <td>7.7</td>\n",
       "    </tr>\n",
       "    <tr>\n",
       "      <th>std</th>\n",
       "      <td>224966.7</td>\n",
       "      <td>390.1</td>\n",
       "      <td>486.0</td>\n",
       "      <td>149975.4</td>\n",
       "      <td>2.9</td>\n",
       "      <td>1928.3</td>\n",
       "      <td>1.007694e+08</td>\n",
       "      <td>72.5</td>\n",
       "    </tr>\n",
       "    <tr>\n",
       "      <th>min</th>\n",
       "      <td>0.0</td>\n",
       "      <td>0.0</td>\n",
       "      <td>1.0</td>\n",
       "      <td>10.0</td>\n",
       "      <td>0.0</td>\n",
       "      <td>1.0</td>\n",
       "      <td>7.656120e+16</td>\n",
       "      <td>1.0</td>\n",
       "    </tr>\n",
       "    <tr>\n",
       "      <th>25%</th>\n",
       "      <td>194826.5</td>\n",
       "      <td>4.0</td>\n",
       "      <td>45.0</td>\n",
       "      <td>203770.0</td>\n",
       "      <td>2.0</td>\n",
       "      <td>53.0</td>\n",
       "      <td>7.656120e+16</td>\n",
       "      <td>1.0</td>\n",
       "    </tr>\n",
       "    <tr>\n",
       "      <th>50%</th>\n",
       "      <td>389653.0</td>\n",
       "      <td>15.3</td>\n",
       "      <td>110.0</td>\n",
       "      <td>252490.0</td>\n",
       "      <td>4.0</td>\n",
       "      <td>238.0</td>\n",
       "      <td>7.656120e+16</td>\n",
       "      <td>1.0</td>\n",
       "    </tr>\n",
       "    <tr>\n",
       "      <th>75%</th>\n",
       "      <td>584479.5</td>\n",
       "      <td>59.6</td>\n",
       "      <td>246.0</td>\n",
       "      <td>346110.0</td>\n",
       "      <td>7.0</td>\n",
       "      <td>829.0</td>\n",
       "      <td>7.656120e+16</td>\n",
       "      <td>3.0</td>\n",
       "    </tr>\n",
       "    <tr>\n",
       "      <th>max</th>\n",
       "      <td>779306.0</td>\n",
       "      <td>28164.0</td>\n",
       "      <td>13540.0</td>\n",
       "      <td>773900.0</td>\n",
       "      <td>9.0</td>\n",
       "      <td>18371.0</td>\n",
       "      <td>7.656120e+16</td>\n",
       "      <td>6524.0</td>\n",
       "    </tr>\n",
       "  </tbody>\n",
       "</table>\n",
       "</div>"
      ],
      "text/plain": [
       "       Unnamed: 0     hours  products  product_id  page_order      page  \\\n",
       "count    779307.0  776670.0  777741.0    779307.0    779307.0  779307.0   \n",
       "mean     389653.0     111.8     237.0    251489.8         4.4     893.6   \n",
       "std      224966.7     390.1     486.0    149975.4         2.9    1928.3   \n",
       "min           0.0       0.0       1.0        10.0         0.0       1.0   \n",
       "25%      194826.5       4.0      45.0    203770.0         2.0      53.0   \n",
       "50%      389653.0      15.3     110.0    252490.0         4.0     238.0   \n",
       "75%      584479.5      59.6     246.0    346110.0         7.0     829.0   \n",
       "max      779306.0   28164.0   13540.0    773900.0         9.0   18371.0   \n",
       "\n",
       "            user_id  found_funny  \n",
       "count  3.173400e+05     120164.0  \n",
       "mean   7.656120e+16          7.7  \n",
       "std    1.007694e+08         72.5  \n",
       "min    7.656120e+16          1.0  \n",
       "25%    7.656120e+16          1.0  \n",
       "50%    7.656120e+16          1.0  \n",
       "75%    7.656120e+16          3.0  \n",
       "max    7.656120e+16       6524.0  "
      ]
     },
     "execution_count": 362,
     "metadata": {},
     "output_type": "execute_result"
    }
   ],
   "source": [
    "# Información del descriptiva del dataset\n",
    "new_data_review.describe().round(1)"
   ]
  },
  {
   "cell_type": "markdown",
   "metadata": {},
   "source": [
    "__Podemos ver la media de la cantidad de horas 111 y que la cantidad de horas jugadas de los usuarios es de 776670\n",
    "tambien podemos observar columnas que podamos utilizar para la recomendación como hours o found_funny, el product_id importante para la identificación del juego__"
   ]
  },
  {
   "cell_type": "markdown",
   "metadata": {},
   "source": [
    "__DATA GAMES__"
   ]
  },
  {
   "cell_type": "code",
   "execution_count": 363,
   "metadata": {},
   "outputs": [],
   "source": [
    "new_data_games = pd.read_csv('new_data_games.csv')"
   ]
  },
  {
   "cell_type": "code",
   "execution_count": 364,
   "metadata": {},
   "outputs": [
    {
     "data": {
      "text/plain": [
       "(32135, 17)"
      ]
     },
     "execution_count": 364,
     "metadata": {},
     "output_type": "execute_result"
    }
   ],
   "source": [
    "new_data_games.shape # Filas y columnas"
   ]
  },
  {
   "cell_type": "markdown",
   "metadata": {},
   "source": [
    "* *El Dataset de juegos, cuenta con **32.135 Filas**, y **17 Columnas**.*"
   ]
  },
  {
   "cell_type": "code",
   "execution_count": 365,
   "metadata": {},
   "outputs": [
    {
     "data": {
      "text/html": [
       "<div>\n",
       "<style scoped>\n",
       "    .dataframe tbody tr th:only-of-type {\n",
       "        vertical-align: middle;\n",
       "    }\n",
       "\n",
       "    .dataframe tbody tr th {\n",
       "        vertical-align: top;\n",
       "    }\n",
       "\n",
       "    .dataframe thead th {\n",
       "        text-align: right;\n",
       "    }\n",
       "</style>\n",
       "<table border=\"1\" class=\"dataframe\">\n",
       "  <thead>\n",
       "    <tr style=\"text-align: right;\">\n",
       "      <th></th>\n",
       "      <th>Unnamed: 0</th>\n",
       "      <th>publisher</th>\n",
       "      <th>genres</th>\n",
       "      <th>app_name</th>\n",
       "      <th>title</th>\n",
       "      <th>url</th>\n",
       "      <th>release_date</th>\n",
       "      <th>tags</th>\n",
       "      <th>discount_price</th>\n",
       "      <th>reviews_url</th>\n",
       "      <th>specs</th>\n",
       "      <th>price</th>\n",
       "      <th>early_access</th>\n",
       "      <th>id</th>\n",
       "      <th>developer</th>\n",
       "      <th>sentiment</th>\n",
       "      <th>metascore</th>\n",
       "    </tr>\n",
       "  </thead>\n",
       "  <tbody>\n",
       "    <tr>\n",
       "      <th>0</th>\n",
       "      <td>0</td>\n",
       "      <td>Kotoshiro</td>\n",
       "      <td>['Action', 'Casual', 'Indie', 'Simulation', 'S...</td>\n",
       "      <td>Lost Summoner Kitty</td>\n",
       "      <td>Lost Summoner Kitty</td>\n",
       "      <td>http://store.steampowered.com/app/761140/Lost_...</td>\n",
       "      <td>2018-01-04</td>\n",
       "      <td>['Strategy', 'Action', 'Indie', 'Casual', 'Sim...</td>\n",
       "      <td>4.49</td>\n",
       "      <td>http://steamcommunity.com/app/761140/reviews/?...</td>\n",
       "      <td>['Single-player']</td>\n",
       "      <td>4.99</td>\n",
       "      <td>False</td>\n",
       "      <td>761140.0</td>\n",
       "      <td>Kotoshiro</td>\n",
       "      <td>NaN</td>\n",
       "      <td>NaN</td>\n",
       "    </tr>\n",
       "    <tr>\n",
       "      <th>1</th>\n",
       "      <td>1</td>\n",
       "      <td>Making Fun, Inc.</td>\n",
       "      <td>['Free to Play', 'Indie', 'RPG', 'Strategy']</td>\n",
       "      <td>Ironbound</td>\n",
       "      <td>Ironbound</td>\n",
       "      <td>http://store.steampowered.com/app/643980/Ironb...</td>\n",
       "      <td>2018-01-04</td>\n",
       "      <td>['Free to Play', 'Strategy', 'Indie', 'RPG', '...</td>\n",
       "      <td>NaN</td>\n",
       "      <td>http://steamcommunity.com/app/643980/reviews/?...</td>\n",
       "      <td>['Single-player', 'Multi-player', 'Online Mult...</td>\n",
       "      <td>Free To Play</td>\n",
       "      <td>False</td>\n",
       "      <td>643980.0</td>\n",
       "      <td>Secret Level SRL</td>\n",
       "      <td>Mostly Positive</td>\n",
       "      <td>NaN</td>\n",
       "    </tr>\n",
       "    <tr>\n",
       "      <th>2</th>\n",
       "      <td>2</td>\n",
       "      <td>Poolians.com</td>\n",
       "      <td>['Casual', 'Free to Play', 'Indie', 'Simulatio...</td>\n",
       "      <td>Real Pool 3D - Poolians</td>\n",
       "      <td>Real Pool 3D - Poolians</td>\n",
       "      <td>http://store.steampowered.com/app/670290/Real_...</td>\n",
       "      <td>2017-07-24</td>\n",
       "      <td>['Free to Play', 'Simulation', 'Sports', 'Casu...</td>\n",
       "      <td>NaN</td>\n",
       "      <td>http://steamcommunity.com/app/670290/reviews/?...</td>\n",
       "      <td>['Single-player', 'Multi-player', 'Online Mult...</td>\n",
       "      <td>Free to Play</td>\n",
       "      <td>False</td>\n",
       "      <td>670290.0</td>\n",
       "      <td>Poolians.com</td>\n",
       "      <td>Mostly Positive</td>\n",
       "      <td>NaN</td>\n",
       "    </tr>\n",
       "  </tbody>\n",
       "</table>\n",
       "</div>"
      ],
      "text/plain": [
       "   Unnamed: 0         publisher  \\\n",
       "0           0         Kotoshiro   \n",
       "1           1  Making Fun, Inc.   \n",
       "2           2      Poolians.com   \n",
       "\n",
       "                                              genres                 app_name  \\\n",
       "0  ['Action', 'Casual', 'Indie', 'Simulation', 'S...      Lost Summoner Kitty   \n",
       "1       ['Free to Play', 'Indie', 'RPG', 'Strategy']                Ironbound   \n",
       "2  ['Casual', 'Free to Play', 'Indie', 'Simulatio...  Real Pool 3D - Poolians   \n",
       "\n",
       "                     title                                                url  \\\n",
       "0      Lost Summoner Kitty  http://store.steampowered.com/app/761140/Lost_...   \n",
       "1                Ironbound  http://store.steampowered.com/app/643980/Ironb...   \n",
       "2  Real Pool 3D - Poolians  http://store.steampowered.com/app/670290/Real_...   \n",
       "\n",
       "  release_date                                               tags  \\\n",
       "0   2018-01-04  ['Strategy', 'Action', 'Indie', 'Casual', 'Sim...   \n",
       "1   2018-01-04  ['Free to Play', 'Strategy', 'Indie', 'RPG', '...   \n",
       "2   2017-07-24  ['Free to Play', 'Simulation', 'Sports', 'Casu...   \n",
       "\n",
       "   discount_price                                        reviews_url  \\\n",
       "0            4.49  http://steamcommunity.com/app/761140/reviews/?...   \n",
       "1             NaN  http://steamcommunity.com/app/643980/reviews/?...   \n",
       "2             NaN  http://steamcommunity.com/app/670290/reviews/?...   \n",
       "\n",
       "                                               specs         price  \\\n",
       "0                                  ['Single-player']          4.99   \n",
       "1  ['Single-player', 'Multi-player', 'Online Mult...  Free To Play   \n",
       "2  ['Single-player', 'Multi-player', 'Online Mult...  Free to Play   \n",
       "\n",
       "   early_access        id         developer        sentiment  metascore  \n",
       "0         False  761140.0         Kotoshiro              NaN        NaN  \n",
       "1         False  643980.0  Secret Level SRL  Mostly Positive        NaN  \n",
       "2         False  670290.0      Poolians.com  Mostly Positive        NaN  "
      ]
     },
     "execution_count": 365,
     "metadata": {},
     "output_type": "execute_result"
    }
   ],
   "source": [
    "new_data_games.head(3) # Primeras 3 instancias (filas)"
   ]
  },
  {
   "cell_type": "code",
   "execution_count": 366,
   "metadata": {},
   "outputs": [
    {
     "name": "stdout",
     "output_type": "stream",
     "text": [
      "<class 'pandas.core.frame.DataFrame'>\n",
      "RangeIndex: 32135 entries, 0 to 32134\n",
      "Data columns (total 17 columns):\n",
      " #   Column          Non-Null Count  Dtype  \n",
      "---  ------          --------------  -----  \n",
      " 0   Unnamed: 0      32135 non-null  int64  \n",
      " 1   publisher       24073 non-null  object \n",
      " 2   genres          28852 non-null  object \n",
      " 3   app_name        32133 non-null  object \n",
      " 4   title           30085 non-null  object \n",
      " 5   url             32135 non-null  object \n",
      " 6   release_date    30068 non-null  object \n",
      " 7   tags            31972 non-null  object \n",
      " 8   discount_price  225 non-null    float64\n",
      " 9   reviews_url     32133 non-null  object \n",
      " 10  specs           31465 non-null  object \n",
      " 11  price           30758 non-null  object \n",
      " 12  early_access    32135 non-null  bool   \n",
      " 13  id              32133 non-null  float64\n",
      " 14  developer       28836 non-null  object \n",
      " 15  sentiment       24953 non-null  object \n",
      " 16  metascore       2607 non-null   float64\n",
      "dtypes: bool(1), float64(3), int64(1), object(12)\n",
      "memory usage: 4.0+ MB\n"
     ]
    }
   ],
   "source": [
    "new_data_games.info()"
   ]
  },
  {
   "cell_type": "markdown",
   "metadata": {},
   "source": [
    "__new_data_games.csv:__ Tiene informacion sobre muchos de los juegos que ofrece la plataforma. Sus principales atributos son:\n",
    "- \"publisher\" (editor) \n",
    "- \"genres\"(generos)\n",
    "- \"title\"(nombre del juego)\n",
    "- \"release_date\" (fecha en que se comenzo a comercializar)\n",
    "- \"tags\" (etiquetas)\n",
    "- \"specs\" (caracteristicas de juego)\n",
    "- \"id\" (identificacion numerica y unica del juego)\n",
    "- \"developer\" (desarrollador)\n",
    "- \"sentiment\"(asigna al juego un valor caracteristico en funcion de la valoracion que le pusieron los usuarios si es mas o menos valorado; tambien diferencia los casos en que no hay suficientes reseñas para evaluarlo)\n",
    "- \"metascore\" ( valoracion numerica de 1 a 100, que tiene ese juego en la web)"
   ]
  },
  {
   "cell_type": "code",
   "execution_count": 367,
   "metadata": {},
   "outputs": [
    {
     "data": {
      "text/html": [
       "<div>\n",
       "<style scoped>\n",
       "    .dataframe tbody tr th:only-of-type {\n",
       "        vertical-align: middle;\n",
       "    }\n",
       "\n",
       "    .dataframe tbody tr th {\n",
       "        vertical-align: top;\n",
       "    }\n",
       "\n",
       "    .dataframe thead th {\n",
       "        text-align: right;\n",
       "    }\n",
       "</style>\n",
       "<table border=\"1\" class=\"dataframe\">\n",
       "  <thead>\n",
       "    <tr style=\"text-align: right;\">\n",
       "      <th></th>\n",
       "      <th>Unnamed: 0</th>\n",
       "      <th>discount_price</th>\n",
       "      <th>id</th>\n",
       "      <th>metascore</th>\n",
       "    </tr>\n",
       "  </thead>\n",
       "  <tbody>\n",
       "    <tr>\n",
       "      <th>count</th>\n",
       "      <td>32135.0</td>\n",
       "      <td>225.0</td>\n",
       "      <td>32133.0</td>\n",
       "      <td>2607.0</td>\n",
       "    </tr>\n",
       "    <tr>\n",
       "      <th>mean</th>\n",
       "      <td>16067.0</td>\n",
       "      <td>11.9</td>\n",
       "      <td>451757.4</td>\n",
       "      <td>72.3</td>\n",
       "    </tr>\n",
       "    <tr>\n",
       "      <th>std</th>\n",
       "      <td>9276.7</td>\n",
       "      <td>17.5</td>\n",
       "      <td>182714.0</td>\n",
       "      <td>10.8</td>\n",
       "    </tr>\n",
       "    <tr>\n",
       "      <th>min</th>\n",
       "      <td>0.0</td>\n",
       "      <td>0.5</td>\n",
       "      <td>10.0</td>\n",
       "      <td>20.0</td>\n",
       "    </tr>\n",
       "    <tr>\n",
       "      <th>25%</th>\n",
       "      <td>8033.5</td>\n",
       "      <td>1.4</td>\n",
       "      <td>329280.0</td>\n",
       "      <td>66.0</td>\n",
       "    </tr>\n",
       "    <tr>\n",
       "      <th>50%</th>\n",
       "      <td>16067.0</td>\n",
       "      <td>4.2</td>\n",
       "      <td>452060.0</td>\n",
       "      <td>74.0</td>\n",
       "    </tr>\n",
       "    <tr>\n",
       "      <th>75%</th>\n",
       "      <td>24100.5</td>\n",
       "      <td>22.7</td>\n",
       "      <td>593400.0</td>\n",
       "      <td>80.0</td>\n",
       "    </tr>\n",
       "    <tr>\n",
       "      <th>max</th>\n",
       "      <td>32134.0</td>\n",
       "      <td>140.0</td>\n",
       "      <td>2028850.0</td>\n",
       "      <td>96.0</td>\n",
       "    </tr>\n",
       "  </tbody>\n",
       "</table>\n",
       "</div>"
      ],
      "text/plain": [
       "       Unnamed: 0  discount_price         id  metascore\n",
       "count     32135.0           225.0    32133.0     2607.0\n",
       "mean      16067.0            11.9   451757.4       72.3\n",
       "std        9276.7            17.5   182714.0       10.8\n",
       "min           0.0             0.5       10.0       20.0\n",
       "25%        8033.5             1.4   329280.0       66.0\n",
       "50%       16067.0             4.2   452060.0       74.0\n",
       "75%       24100.5            22.7   593400.0       80.0\n",
       "max       32134.0           140.0  2028850.0       96.0"
      ]
     },
     "execution_count": 367,
     "metadata": {},
     "output_type": "execute_result"
    }
   ],
   "source": [
    "new_data_games.describe().round(1)"
   ]
  },
  {
   "cell_type": "code",
   "execution_count": 368,
   "metadata": {},
   "outputs": [
    {
     "name": "stdout",
     "output_type": "stream",
     "text": [
      "[nan 'Mostly Positive' 'Mixed' '1 user reviews' '3 user reviews'\n",
      " '8 user reviews' 'Very Positive' 'Overwhelmingly Positive'\n",
      " '6 user reviews' '5 user reviews' '2 user reviews' 'Very Negative'\n",
      " 'Positive' 'Mostly Negative' '9 user reviews' 'Negative' '4 user reviews'\n",
      " '7 user reviews' 'Overwhelmingly Negative']\n"
     ]
    }
   ],
   "source": [
    "print(new_data_games['sentiment'].unique())"
   ]
  },
  {
   "cell_type": "markdown",
   "metadata": {},
   "source": [
    "- __El atributo \"sentiment\"__: analizando un poco mas este campo encuentro que tiene los valores anteriores, algunos los veo claro para calificar un juego pero otros como \"1 user reviews\", no son claros. Decido evaluar la cantidad de registros por cada valor diferente"
   ]
  },
  {
   "cell_type": "code",
   "execution_count": 369,
   "metadata": {},
   "outputs": [
    {
     "name": "stdout",
     "output_type": "stream",
     "text": [
      "Mixed                      4103\n",
      "Very Positive              3868\n",
      "Positive                   3281\n",
      "Mostly Positive            2744\n",
      "1 user reviews             2496\n",
      "2 user reviews             1756\n",
      "3 user reviews             1231\n",
      "4 user reviews              964\n",
      "5 user reviews              846\n",
      "Mostly Negative             802\n",
      "6 user reviews              756\n",
      "7 user reviews              619\n",
      "8 user reviews              537\n",
      "9 user reviews              488\n",
      "Overwhelmingly Positive     303\n",
      "Negative                    123\n",
      "Very Negative                29\n",
      "Overwhelmingly Negative       7\n",
      "Name: sentiment, dtype: int64\n"
     ]
    }
   ],
   "source": [
    "## revisando los valores que se encuentran en la columna Sentiment\n",
    "print(new_data_games['sentiment'].value_counts())"
   ]
  },
  {
   "cell_type": "markdown",
   "metadata": {},
   "source": [
    "__Observo que existen muchos registros para los valores de # user reviews, los cuales no me dan claridad de la calificación asignada, si es buena o mala, no me queda claro como poder recomendar juegos de acuerdo a esos valores__"
   ]
  },
  {
   "cell_type": "markdown",
   "metadata": {},
   "source": [
    "### - Valores Faltantes: \n",
    "Se imprimen en pantalla los nombres de las columnas y cuántos valores faltantes hay por columna."
   ]
  },
  {
   "cell_type": "markdown",
   "metadata": {},
   "source": [
    "__DATA REVIEW Y DATA GAMES__"
   ]
  },
  {
   "cell_type": "code",
   "execution_count": 370,
   "metadata": {},
   "outputs": [
    {
     "data": {
      "text/plain": [
       "Unnamed: 0           0\n",
       "username            18\n",
       "hours             2637\n",
       "products          1566\n",
       "product_id           0\n",
       "page_order           0\n",
       "date                 0\n",
       "text              1839\n",
       "early_access         0\n",
       "page                 0\n",
       "user_id         461967\n",
       "compensation    764719\n",
       "found_funny     659143\n",
       "dtype: int64"
      ]
     },
     "execution_count": 370,
     "metadata": {},
     "output_type": "execute_result"
    }
   ],
   "source": [
    "new_data_review.isnull().sum() # Nombres de las columnas y su cantidad de faltantes"
   ]
  },
  {
   "cell_type": "markdown",
   "metadata": {},
   "source": [
    "* *Variables con elementos faltantes:*  \n",
    "    *1. `compensation` 98% (764.719);*  \n",
    "    *2. `found_funny` 86% (659.143);*  \n",
    "    *3. `user_id` 59% c/u (461.967);*  \n",
    "    *4. `hours` 0,3% (2.637);*  \n",
    "    *5. `text` 0,2% (1.839);*  \n",
    "    *6. `product` 0,2% (1.566).*"
   ]
  },
  {
   "cell_type": "markdown",
   "metadata": {},
   "source": [
    "__DATA GAMES__"
   ]
  },
  {
   "cell_type": "code",
   "execution_count": 371,
   "metadata": {},
   "outputs": [
    {
     "data": {
      "text/plain": [
       "Unnamed: 0            0\n",
       "publisher          8062\n",
       "genres             3283\n",
       "app_name              2\n",
       "title              2050\n",
       "url                   0\n",
       "release_date       2067\n",
       "tags                163\n",
       "discount_price    31910\n",
       "reviews_url           2\n",
       "specs               670\n",
       "price              1377\n",
       "early_access          0\n",
       "id                    2\n",
       "developer          3299\n",
       "sentiment          7182\n",
       "metascore         29528\n",
       "dtype: int64"
      ]
     },
     "execution_count": 371,
     "metadata": {},
     "output_type": "execute_result"
    }
   ],
   "source": [
    "new_data_games.isnull().sum() # Nombres de las columnas y su cantidad de faltantes"
   ]
  },
  {
   "cell_type": "markdown",
   "metadata": {},
   "source": [
    "* *Casi todos las Variables tienen elementos faltantes. Detallamos las principales:*  \n",
    "    *1. `discount_price` 98% (31.910);*  \n",
    "    *2. `metascore` 98% (29.528);*  \n",
    "    *3. `publisher` 59% c/u (8.062);*  \n",
    "    *4. `sentiment` 0,3% (7.182);*  \n",
    "    *5. `developer` 0,2% (3.299);*  \n",
    "    *6. `genres` 0,2% (3.283).*\n",
    "    \n",
    "* *Vemos que el `id` de los juegos, tienen 2 valores faltantes.*"
   ]
  },
  {
   "cell_type": "markdown",
   "metadata": {},
   "source": [
    "__Reseñas por usuario__"
   ]
  },
  {
   "cell_type": "code",
   "execution_count": 372,
   "metadata": {},
   "outputs": [
    {
     "name": "stdout",
     "output_type": "stream",
     "text": [
      "123          213\n",
      "Alex         190\n",
      "Chris        155\n",
      "Nick         143\n",
      "Matt         137\n",
      "            ... \n",
      "lucimon        1\n",
      "JishJoshy      1\n",
      "Rikkord        1\n",
      "Big boi        1\n",
      "Yevaud         1\n",
      "Name: username, Length: 540338, dtype: int64\n"
     ]
    }
   ],
   "source": [
    "CantidadReseñas = new_data_review.username.value_counts()\n",
    "print(CantidadReseñas)"
   ]
  },
  {
   "cell_type": "markdown",
   "metadata": {},
   "source": [
    "__Distribución de las reseñas__"
   ]
  },
  {
   "cell_type": "code",
   "execution_count": 373,
   "metadata": {},
   "outputs": [
    {
     "data": {
      "image/png": "[encoded data removed]",
      "text/plain": [
       "<Figure size 432x288 with 1 Axes>"
      ]
     },
     "metadata": {},
     "output_type": "display_data"
    }
   ],
   "source": [
    "plt.hist(CantidadReseñas,log=True)\n",
    "plt.xlabel('Calificaciones')\n",
    "plt.ylabel('Usuarios')\n",
    "plt.title('Calificaciones por Usuarios')\n",
    "plt.show()"
   ]
  },
  {
   "cell_type": "markdown",
   "metadata": {},
   "source": [
    "Podemos observar que la mayoría de los usuarios no tienen la costumbre de calificar y alrededor del 10% son los que mas \n",
    "califican"
   ]
  },
  {
   "cell_type": "code",
   "execution_count": 374,
   "metadata": {},
   "outputs": [
    {
     "name": "stdout",
     "output_type": "stream",
     "text": [
      "540339\n"
     ]
    }
   ],
   "source": [
    "# Cantidad de usuarios que han calificado\n",
    "print (len(new_data_review['username'].unique())) "
   ]
  },
  {
   "cell_type": "code",
   "execution_count": 376,
   "metadata": {},
   "outputs": [
    {
     "name": "stdout",
     "output_type": "stream",
     "text": [
      "32133\n"
     ]
    }
   ],
   "source": [
    "# Cantidad de juegos\n",
    "print (len(new_data_games['id'].unique()))"
   ]
  },
  {
   "cell_type": "code",
   "execution_count": 257,
   "metadata": {},
   "outputs": [
    {
     "name": "stdout",
     "output_type": "stream",
     "text": [
      "12665\n"
     ]
    }
   ],
   "source": [
    "# Cantidad de juegos calificados\n",
    "print (len(new_data_review['product_id'].unique()))"
   ]
  },
  {
   "cell_type": "markdown",
   "metadata": {},
   "source": [
    "- #### Reseñas a partir de la calificaciones __sentiment.__ De la data de Games"
   ]
  },
  {
   "cell_type": "code",
   "execution_count": 377,
   "metadata": {},
   "outputs": [
    {
     "data": {
      "text/plain": [
       "Text(0.5, 1.0, 'Calificación Sentiment x Juego')"
      ]
     },
     "execution_count": 377,
     "metadata": {},
     "output_type": "execute_result"
    },
    {
     "data": {
      "image/png": "[encoded data removed]",
      "text/plain": [
       "<Figure size 1080x360 with 1 Axes>"
      ]
     },
     "metadata": {},
     "output_type": "display_data"
    }
   ],
   "source": [
    "plt.subplots(figsize=(15, 5))\n",
    "\n",
    "sns.countplot(data = new_data_games, y = 'sentiment', order = new_data_games['sentiment'].value_counts().index, palette='pastel')\n",
    "plt.title('Número de Calificaciones por Tipo')\n",
    "\n",
    "plt.xlabel('Cantidad de Juegos',size=14)\n",
    "plt.ylabel('Calificación Sentiment',size=14)\n",
    "plt.title(\"Calificación Sentiment x Juego\" ,size=18)"
   ]
  },
  {
   "cell_type": "code",
   "execution_count": 385,
   "metadata": {},
   "outputs": [
    {
     "name": "stdout",
     "output_type": "stream",
     "text": [
      "24953\n"
     ]
    }
   ],
   "source": [
    "print(new_data_games.sentiment.count())"
   ]
  },
  {
   "cell_type": "markdown",
   "metadata": {},
   "source": [
    "_Se puede observar que la mayoría de calificaciones que dejan registradas en este Campo son positivas y que se tiene un total de 24953 registros con este valor, lo cual es un % bastante alto de todo el dataset con calificación en este campo_"
   ]
  },
  {
   "cell_type": "markdown",
   "metadata": {},
   "source": [
    "- #### Reseñas a partir de la calificaciones __metascore.__ de la data de Games"
   ]
  },
  {
   "cell_type": "code",
   "execution_count": 378,
   "metadata": {},
   "outputs": [
    {
     "name": "stdout",
     "output_type": "stream",
     "text": [
      "80.0    125\n",
      "74.0    107\n",
      "77.0    104\n",
      "75.0    103\n",
      "76.0    102\n",
      "       ... \n",
      "42.0      1\n",
      "33.0      1\n",
      "34.0      1\n",
      "20.0      1\n",
      "29.0      1\n",
      "Name: metascore, Length: 70, dtype: int64\n"
     ]
    }
   ],
   "source": [
    "print(new_data_games['metascore'].value_counts())"
   ]
  },
  {
   "cell_type": "code",
   "execution_count": 379,
   "metadata": {},
   "outputs": [
    {
     "name": "stdout",
     "output_type": "stream",
     "text": [
      "2607\n"
     ]
    }
   ],
   "source": [
    "## Cantidad de juegos calificados por este atributo\n",
    "print(new_data_games['metascore'].value_counts().sum())"
   ]
  },
  {
   "cell_type": "markdown",
   "metadata": {},
   "source": [
    "2607 son muy pocos registros que tienen este campo, lo cual me hace descartarlo como campo para recomendar"
   ]
  },
  {
   "cell_type": "code",
   "execution_count": 387,
   "metadata": {},
   "outputs": [
    {
     "data": {
      "text/plain": [
       "Text(0.5, 1.0, 'Número de Calificaciones por puntaje')"
      ]
     },
     "execution_count": 387,
     "metadata": {},
     "output_type": "execute_result"
    },
    {
     "data": {
      "image/png": "[encoded data removed]",
      "text/plain": [
       "<Figure size 1080x936 with 1 Axes>"
      ]
     },
     "metadata": {},
     "output_type": "display_data"
    }
   ],
   "source": [
    "plt.figure(figsize = (15,13))\n",
    "sns.countplot(data = new_data_games, y = new_data_games [\"metascore\"], order = new_data_games['metascore'].value_counts().index, palette='pastel')\n",
    "plt.title('Número de Calificaciones por puntaje')"
   ]
  },
  {
   "cell_type": "code",
   "execution_count": null,
   "metadata": {},
   "outputs": [],
   "source": [
    "Con lo anterior se puede observar el comportamiento de calificar a juegos con altos puntajes"
   ]
  },
  {
   "cell_type": "markdown",
   "metadata": {},
   "source": [
    "### B. FILTRO COLABORATIVO"
   ]
  },
  {
   "cell_type": "markdown",
   "metadata": {},
   "source": [
    "* __Recomendación Colaborativa:__ se buscan Usuarios similares en sus gustos, y de acuerdo a ello, se usan los productos que ellos consumen para recomendarlos (que yo no he usado, consumido, escuchado, etc.). Se utiliza lo que se sabe de mí y en función de ello se buscan usuarios que se parecen a mí.\n",
    "    - Ventajas: no necesito tener info acerca de los productos.\n",
    "    - Desventajas: necesitamos tener la matríz de utilidad (que es muy dispersa) y llenarla es costosa en tiempo y dinero.\n",
    "    \n",
    "* Necesitamos un dataset donde cada fila represente un `usuario`, un `juego` y la `calificación del usuario` a ese juego. Es decir, tiras de tres componentes. Hay otra información que puede ser útil, pero con esos tres datos ya podemos implementar un filtro colaborativo."
   ]
  },
  {
   "cell_type": "markdown",
   "metadata": {},
   "source": [
    "CASO PARTICULAR STEAM\n",
    "* No hay registros tanto en el sitio web Steam, sobre las calificaciones continuas de estos usuarios. En realidad, en la plataforma, los usuarios sólo dan \"Recomendación\" o \"No Recomendación\", esto no nos da mucha información sobre el grado de gustarles un juego, incluso en el sitio web del usuario, todavía no hay ningún mecanismo sobre las calificaciones continuas, como algún puntaje.\n",
    "* Por lo cual para obtener calificaciones continuas sobre el gusto de los usuarios por los juegos, debemos suponer un mecanismo de calificación de los juegos, otro campo del archivo que nos pueda dar información sobre el gusto de los usuarios sobre los juegos puede ser por `las horas jugadas`, podemos asumir que el tiempo de juego es una información sobre los intereses de los usuarios."
   ]
  },
  {
   "cell_type": "markdown",
   "metadata": {},
   "source": [
    "Seleccionamos aquellos **features que nos seran útiles** a la hora de aplicar un **filtro colaborativo**."
   ]
  },
  {
   "cell_type": "markdown",
   "metadata": {},
   "source": [
    "#### DATA REVIEWS."
   ]
  },
  {
   "cell_type": "code",
   "execution_count": 389,
   "metadata": {},
   "outputs": [
    {
     "name": "stdout",
     "output_type": "stream",
     "text": [
      "(779307, 3)\n"
     ]
    },
    {
     "data": {
      "text/html": [
       "<div>\n",
       "<style scoped>\n",
       "    .dataframe tbody tr th:only-of-type {\n",
       "        vertical-align: middle;\n",
       "    }\n",
       "\n",
       "    .dataframe tbody tr th {\n",
       "        vertical-align: top;\n",
       "    }\n",
       "\n",
       "    .dataframe thead th {\n",
       "        text-align: right;\n",
       "    }\n",
       "</style>\n",
       "<table border=\"1\" class=\"dataframe\">\n",
       "  <thead>\n",
       "    <tr style=\"text-align: right;\">\n",
       "      <th></th>\n",
       "      <th>username</th>\n",
       "      <th>hours</th>\n",
       "      <th>product_id</th>\n",
       "    </tr>\n",
       "  </thead>\n",
       "  <tbody>\n",
       "    <tr>\n",
       "      <th>0</th>\n",
       "      <td>Chaos Syren</td>\n",
       "      <td>0.1</td>\n",
       "      <td>725280</td>\n",
       "    </tr>\n",
       "    <tr>\n",
       "      <th>1</th>\n",
       "      <td>Ariman1</td>\n",
       "      <td>13.2</td>\n",
       "      <td>328100</td>\n",
       "    </tr>\n",
       "    <tr>\n",
       "      <th>2</th>\n",
       "      <td>freakfantom</td>\n",
       "      <td>0.1</td>\n",
       "      <td>725280</td>\n",
       "    </tr>\n",
       "    <tr>\n",
       "      <th>3</th>\n",
       "      <td>The_Cpt_FROGGY</td>\n",
       "      <td>7.8</td>\n",
       "      <td>631920</td>\n",
       "    </tr>\n",
       "    <tr>\n",
       "      <th>4</th>\n",
       "      <td>the_maker988</td>\n",
       "      <td>8.2</td>\n",
       "      <td>35140</td>\n",
       "    </tr>\n",
       "  </tbody>\n",
       "</table>\n",
       "</div>"
      ],
      "text/plain": [
       "         username  hours  product_id\n",
       "0     Chaos Syren    0.1      725280\n",
       "1         Ariman1   13.2      328100\n",
       "2     freakfantom    0.1      725280\n",
       "3  The_Cpt_FROGGY    7.8      631920\n",
       "4    the_maker988    8.2       35140"
      ]
     },
     "execution_count": 389,
     "metadata": {},
     "output_type": "execute_result"
    }
   ],
   "source": [
    "df_review = new_data_review[['username','hours','product_id']]\n",
    "print(df_review.shape)\n",
    "df_review.head()"
   ]
  },
  {
   "cell_type": "markdown",
   "metadata": {},
   "source": [
    "#### Preprocesamiento de datos (Tratamiento de datos nulos)"
   ]
  },
  {
   "cell_type": "code",
   "execution_count": 390,
   "metadata": {},
   "outputs": [
    {
     "data": {
      "text/plain": [
       "username        18\n",
       "hours         2637\n",
       "product_id       0\n",
       "dtype: int64"
      ]
     },
     "execution_count": 390,
     "metadata": {},
     "output_type": "execute_result"
    }
   ],
   "source": [
    "df_review.isnull().sum()"
   ]
  },
  {
   "cell_type": "markdown",
   "metadata": {},
   "source": [
    "_- Los valores fatantes representan menos del 0,3% del total de instancias, por lo que se procede a eliminarlos, ya que no deberían generar grandes distorsiones en el dataset_"
   ]
  },
  {
   "cell_type": "code",
   "execution_count": 391,
   "metadata": {},
   "outputs": [],
   "source": [
    "## Borro los valores faltantes\n",
    "df1_review = df_review.dropna()"
   ]
  },
  {
   "cell_type": "code",
   "execution_count": 392,
   "metadata": {},
   "outputs": [
    {
     "data": {
      "text/plain": [
       "username      0\n",
       "hours         0\n",
       "product_id    0\n",
       "dtype: int64"
      ]
     },
     "execution_count": 392,
     "metadata": {},
     "output_type": "execute_result"
    }
   ],
   "source": [
    "## Confirmo que se hayan borrado\n",
    "df1_review.isnull().sum()"
   ]
  },
  {
   "cell_type": "code",
   "execution_count": 393,
   "metadata": {},
   "outputs": [
    {
     "name": "stdout",
     "output_type": "stream",
     "text": [
      "(776652, 3)\n"
     ]
    }
   ],
   "source": [
    "## Tamaño del nuevo dataset\n",
    "print(df1_review.shape)"
   ]
  },
  {
   "cell_type": "markdown",
   "metadata": {},
   "source": [
    "### Tratamiento de outliers (Tratamiento de Outliers)"
   ]
  },
  {
   "cell_type": "code",
   "execution_count": 394,
   "metadata": {},
   "outputs": [
    {
     "data": {
      "text/plain": [
       "Text(0, 0.5, 'distribucion')"
      ]
     },
     "execution_count": 394,
     "metadata": {},
     "output_type": "execute_result"
    },
    {
     "data": {
      "image/png": "[encoded data removed]",
      "text/plain": [
       "<Figure size 1008x288 with 1 Axes>"
      ]
     },
     "metadata": {},
     "output_type": "display_data"
    }
   ],
   "source": [
    "## Distrubución de las horas\n",
    "\n",
    "plt.subplots(figsize=(14,4))\n",
    "\n",
    "plt.title(\"Distribucion Atributo Hours\" ,size=18)\n",
    "sns.distplot(df1_review [\"hours\"],bins=100)\n",
    "plt.xlabel('hours',size=14)\n",
    "plt.ylabel('distribucion',size=14)"
   ]
  },
  {
   "cell_type": "code",
   "execution_count": 395,
   "metadata": {},
   "outputs": [
    {
     "data": {
      "text/plain": [
       "<AxesSubplot:ylabel='hours'>"
      ]
     },
     "execution_count": 395,
     "metadata": {},
     "output_type": "execute_result"
    },
    {
     "data": {
      "image/png": "[encoded data removed]",
      "text/plain": [
       "<Figure size 432x288 with 1 Axes>"
      ]
     },
     "metadata": {},
     "output_type": "display_data"
    }
   ],
   "source": [
    "sns.boxplot(data = df1_review, y = \"hours\")"
   ]
  },
  {
   "cell_type": "code",
   "execution_count": 396,
   "metadata": {},
   "outputs": [],
   "source": [
    "## Utilizando la regla de las 3 sigmas\n",
    "\n",
    "valorMedio_hours = df1_review.hours.mean()\n",
    "std_hours = df1_review.hours.std()\n",
    "minimo_hours = valorMedio_hours - 3*std_hours\n",
    "maximo_hours = valorMedio_hours + 3*std_hours\n",
    "mascara_outliers = np.logical_or(df1_review.hours < minimo_hours, df1_review.hours > minimo_hours)"
   ]
  },
  {
   "cell_type": "code",
   "execution_count": 397,
   "metadata": {},
   "outputs": [
    {
     "data": {
      "text/plain": [
       "776652"
      ]
     },
     "execution_count": 397,
     "metadata": {},
     "output_type": "execute_result"
    }
   ],
   "source": [
    "mascara_outliers.sum()"
   ]
  },
  {
   "cell_type": "code",
   "execution_count": 398,
   "metadata": {},
   "outputs": [
    {
     "data": {
      "text/html": [
       "<div>\n",
       "<style scoped>\n",
       "    .dataframe tbody tr th:only-of-type {\n",
       "        vertical-align: middle;\n",
       "    }\n",
       "\n",
       "    .dataframe tbody tr th {\n",
       "        vertical-align: top;\n",
       "    }\n",
       "\n",
       "    .dataframe thead th {\n",
       "        text-align: right;\n",
       "    }\n",
       "</style>\n",
       "<table border=\"1\" class=\"dataframe\">\n",
       "  <thead>\n",
       "    <tr style=\"text-align: right;\">\n",
       "      <th></th>\n",
       "      <th>username</th>\n",
       "      <th>hours</th>\n",
       "      <th>product_id</th>\n",
       "    </tr>\n",
       "  </thead>\n",
       "  <tbody>\n",
       "    <tr>\n",
       "      <th>0</th>\n",
       "      <td>Chaos Syren</td>\n",
       "      <td>0.1</td>\n",
       "      <td>725280</td>\n",
       "    </tr>\n",
       "    <tr>\n",
       "      <th>1</th>\n",
       "      <td>Ariman1</td>\n",
       "      <td>13.2</td>\n",
       "      <td>328100</td>\n",
       "    </tr>\n",
       "    <tr>\n",
       "      <th>2</th>\n",
       "      <td>freakfantom</td>\n",
       "      <td>0.1</td>\n",
       "      <td>725280</td>\n",
       "    </tr>\n",
       "    <tr>\n",
       "      <th>3</th>\n",
       "      <td>The_Cpt_FROGGY</td>\n",
       "      <td>7.8</td>\n",
       "      <td>631920</td>\n",
       "    </tr>\n",
       "    <tr>\n",
       "      <th>4</th>\n",
       "      <td>the_maker988</td>\n",
       "      <td>8.2</td>\n",
       "      <td>35140</td>\n",
       "    </tr>\n",
       "    <tr>\n",
       "      <th>...</th>\n",
       "      <td>...</td>\n",
       "      <td>...</td>\n",
       "      <td>...</td>\n",
       "    </tr>\n",
       "    <tr>\n",
       "      <th>779302</th>\n",
       "      <td>Vidaar</td>\n",
       "      <td>783.5</td>\n",
       "      <td>252490</td>\n",
       "    </tr>\n",
       "    <tr>\n",
       "      <th>779303</th>\n",
       "      <td>Nikolai Belinski</td>\n",
       "      <td>55.1</td>\n",
       "      <td>252490</td>\n",
       "    </tr>\n",
       "    <tr>\n",
       "      <th>779304</th>\n",
       "      <td>RancorZealot</td>\n",
       "      <td>203.5</td>\n",
       "      <td>252490</td>\n",
       "    </tr>\n",
       "    <tr>\n",
       "      <th>779305</th>\n",
       "      <td>Jerry</td>\n",
       "      <td>139.8</td>\n",
       "      <td>252490</td>\n",
       "    </tr>\n",
       "    <tr>\n",
       "      <th>779306</th>\n",
       "      <td>Helk</td>\n",
       "      <td>15375.0</td>\n",
       "      <td>252490</td>\n",
       "    </tr>\n",
       "  </tbody>\n",
       "</table>\n",
       "<p>776652 rows × 3 columns</p>\n",
       "</div>"
      ],
      "text/plain": [
       "                username    hours  product_id\n",
       "0            Chaos Syren      0.1      725280\n",
       "1                Ariman1     13.2      328100\n",
       "2            freakfantom      0.1      725280\n",
       "3         The_Cpt_FROGGY      7.8      631920\n",
       "4           the_maker988      8.2       35140\n",
       "...                  ...      ...         ...\n",
       "779302            Vidaar    783.5      252490\n",
       "779303  Nikolai Belinski     55.1      252490\n",
       "779304      RancorZealot    203.5      252490\n",
       "779305             Jerry    139.8      252490\n",
       "779306              Helk  15375.0      252490\n",
       "\n",
       "[776652 rows x 3 columns]"
      ]
     },
     "execution_count": 398,
     "metadata": {},
     "output_type": "execute_result"
    }
   ],
   "source": [
    "df1_review[mascara_outliers]"
   ]
  },
  {
   "cell_type": "code",
   "execution_count": 399,
   "metadata": {},
   "outputs": [
    {
     "data": {
      "text/plain": [
       "(763677, 3)"
      ]
     },
     "execution_count": 399,
     "metadata": {},
     "output_type": "execute_result"
    }
   ],
   "source": [
    "df2_review = df1_review[(df1_review.hours >= minimo_hours) & (df1_review.hours <= maximo_hours)]\n",
    "df2_review.shape"
   ]
  },
  {
   "cell_type": "code",
   "execution_count": 400,
   "metadata": {},
   "outputs": [
    {
     "data": {
      "text/html": [
       "<div>\n",
       "<style scoped>\n",
       "    .dataframe tbody tr th:only-of-type {\n",
       "        vertical-align: middle;\n",
       "    }\n",
       "\n",
       "    .dataframe tbody tr th {\n",
       "        vertical-align: top;\n",
       "    }\n",
       "\n",
       "    .dataframe thead th {\n",
       "        text-align: right;\n",
       "    }\n",
       "</style>\n",
       "<table border=\"1\" class=\"dataframe\">\n",
       "  <thead>\n",
       "    <tr style=\"text-align: right;\">\n",
       "      <th></th>\n",
       "      <th>hours</th>\n",
       "      <th>product_id</th>\n",
       "    </tr>\n",
       "  </thead>\n",
       "  <tbody>\n",
       "    <tr>\n",
       "      <th>count</th>\n",
       "      <td>763677.000000</td>\n",
       "      <td>763677.000000</td>\n",
       "    </tr>\n",
       "    <tr>\n",
       "      <th>mean</th>\n",
       "      <td>72.970961</td>\n",
       "      <td>253079.907385</td>\n",
       "    </tr>\n",
       "    <tr>\n",
       "      <th>std</th>\n",
       "      <td>163.635493</td>\n",
       "      <td>149415.745319</td>\n",
       "    </tr>\n",
       "    <tr>\n",
       "      <th>min</th>\n",
       "      <td>0.000000</td>\n",
       "      <td>10.000000</td>\n",
       "    </tr>\n",
       "    <tr>\n",
       "      <th>25%</th>\n",
       "      <td>3.900000</td>\n",
       "      <td>204300.000000</td>\n",
       "    </tr>\n",
       "    <tr>\n",
       "      <th>50%</th>\n",
       "      <td>14.700000</td>\n",
       "      <td>252490.000000</td>\n",
       "    </tr>\n",
       "    <tr>\n",
       "      <th>75%</th>\n",
       "      <td>54.800000</td>\n",
       "      <td>346560.000000</td>\n",
       "    </tr>\n",
       "    <tr>\n",
       "      <th>max</th>\n",
       "      <td>1281.900000</td>\n",
       "      <td>773900.000000</td>\n",
       "    </tr>\n",
       "  </tbody>\n",
       "</table>\n",
       "</div>"
      ],
      "text/plain": [
       "               hours     product_id\n",
       "count  763677.000000  763677.000000\n",
       "mean       72.970961  253079.907385\n",
       "std       163.635493  149415.745319\n",
       "min         0.000000      10.000000\n",
       "25%         3.900000  204300.000000\n",
       "50%        14.700000  252490.000000\n",
       "75%        54.800000  346560.000000\n",
       "max      1281.900000  773900.000000"
      ]
     },
     "execution_count": 400,
     "metadata": {},
     "output_type": "execute_result"
    }
   ],
   "source": [
    "df2_review.describe()"
   ]
  },
  {
   "cell_type": "code",
   "execution_count": 401,
   "metadata": {},
   "outputs": [
    {
     "name": "stdout",
     "output_type": "stream",
     "text": [
      "La media es: 72.97096141431517\n",
      "La desviación estandar es: 163.63549325432086\n"
     ]
    },
    {
     "data": {
      "image/png": "[encoded data removed]",
      "text/plain": [
       "<Figure size 1008x288 with 1 Axes>"
      ]
     },
     "metadata": {},
     "output_type": "display_data"
    }
   ],
   "source": [
    "# Distribución de horas después del tratamiento de outliers\n",
    "\n",
    "plt.subplots(figsize=(14,4))\n",
    "\n",
    "plt.title(\"Distribucion Atributo Hours\" ,size=18)\n",
    "sns.distplot(df2_review [\"hours\"],bins=100)\n",
    "plt.xlabel('hours',size=14)\n",
    "plt.ylabel('distribucion',size=14)\n",
    "\n",
    "print('La media es:',df2_review['hours'].mean())\n",
    "print('La desviación estandar es:',df2_review['hours'].std())"
   ]
  },
  {
   "cell_type": "code",
   "execution_count": 402,
   "metadata": {},
   "outputs": [
    {
     "data": {
      "text/plain": [
       "<AxesSubplot:ylabel='hours'>"
      ]
     },
     "execution_count": 402,
     "metadata": {},
     "output_type": "execute_result"
    },
    {
     "data": {
      "image/png": "[encoded data removed]",
      "text/plain": [
       "<Figure size 432x288 with 1 Axes>"
      ]
     },
     "metadata": {},
     "output_type": "display_data"
    }
   ],
   "source": [
    "sns.boxplot(data = df2_review, y = \"hours\")"
   ]
  },
  {
   "cell_type": "markdown",
   "metadata": {},
   "source": [
    "#### ENCODERS\n",
    "A pesar que no se requiera ya que la libreria Surprise permite trabajar feature sin categorizar, se decide asignarle un Id a cada \n",
    "usuario único, a fin de facilitar comparaciones a futuro."
   ]
  },
  {
   "cell_type": "code",
   "execution_count": 277,
   "metadata": {},
   "outputs": [
    {
     "data": {
      "text/html": [
       "<div>\n",
       "<style scoped>\n",
       "    .dataframe tbody tr th:only-of-type {\n",
       "        vertical-align: middle;\n",
       "    }\n",
       "\n",
       "    .dataframe tbody tr th {\n",
       "        vertical-align: top;\n",
       "    }\n",
       "\n",
       "    .dataframe thead th {\n",
       "        text-align: right;\n",
       "    }\n",
       "</style>\n",
       "<table border=\"1\" class=\"dataframe\">\n",
       "  <thead>\n",
       "    <tr style=\"text-align: right;\">\n",
       "      <th></th>\n",
       "      <th>username</th>\n",
       "      <th>hours</th>\n",
       "      <th>product_id</th>\n",
       "    </tr>\n",
       "  </thead>\n",
       "  <tbody>\n",
       "    <tr>\n",
       "      <th>0</th>\n",
       "      <td>61272</td>\n",
       "      <td>0.1</td>\n",
       "      <td>725280</td>\n",
       "    </tr>\n",
       "    <tr>\n",
       "      <th>1</th>\n",
       "      <td>26274</td>\n",
       "      <td>13.2</td>\n",
       "      <td>328100</td>\n",
       "    </tr>\n",
       "    <tr>\n",
       "      <th>2</th>\n",
       "      <td>426434</td>\n",
       "      <td>0.1</td>\n",
       "      <td>725280</td>\n",
       "    </tr>\n",
       "    <tr>\n",
       "      <th>3</th>\n",
       "      <td>341420</td>\n",
       "      <td>7.8</td>\n",
       "      <td>631920</td>\n",
       "    </tr>\n",
       "    <tr>\n",
       "      <th>4</th>\n",
       "      <td>494284</td>\n",
       "      <td>8.2</td>\n",
       "      <td>35140</td>\n",
       "    </tr>\n",
       "  </tbody>\n",
       "</table>\n",
       "</div>"
      ],
      "text/plain": [
       "   username  hours  product_id\n",
       "0     61272    0.1      725280\n",
       "1     26274   13.2      328100\n",
       "2    426434    0.1      725280\n",
       "3    341420    7.8      631920\n",
       "4    494284    8.2       35140"
      ]
     },
     "metadata": {},
     "output_type": "display_data"
    }
   ],
   "source": [
    "from sklearn.preprocessing import LabelEncoder\n",
    "\n",
    "warnings.filterwarnings('ignore')\n",
    "\n",
    "le = LabelEncoder()\n",
    "df2_review['username'] = le.fit_transform(df2_review['username'])\n",
    "\n",
    "\n",
    "display(df2_review.head())\n"
   ]
  },
  {
   "cell_type": "markdown",
   "metadata": {},
   "source": [
    "#### Definición del rating a utilizar"
   ]
  },
  {
   "cell_type": "markdown",
   "metadata": {},
   "source": [
    "Tratando que las horas se distribuyan equitativamente para crear un rating hasta 5"
   ]
  },
  {
   "cell_type": "code",
   "execution_count": 405,
   "metadata": {},
   "outputs": [],
   "source": [
    "df3 = df2_review"
   ]
  },
  {
   "cell_type": "code",
   "execution_count": 406,
   "metadata": {},
   "outputs": [],
   "source": [
    "bins = [0, 100, 200, 300, 500, 20573]\n",
    "\n",
    "\n",
    "labels =[1,2,3,4,5]\n",
    "\n",
    "df2_review['rating'] = pd.cut(df2_review['hours'], bins,labels=labels)\n",
    "\n",
    "warnings.filterwarnings('ignore')"
   ]
  },
  {
   "cell_type": "code",
   "execution_count": 407,
   "metadata": {},
   "outputs": [
    {
     "data": {
      "text/plain": [
       "1    0.832097\n",
       "2    0.071143\n",
       "5    0.034903\n",
       "3    0.031222\n",
       "4    0.030635\n",
       "Name: rating, dtype: float64"
      ]
     },
     "execution_count": 407,
     "metadata": {},
     "output_type": "execute_result"
    }
   ],
   "source": [
    "df2_review['rating'].value_counts(normalize=True).round(7)"
   ]
  },
  {
   "cell_type": "code",
   "execution_count": 408,
   "metadata": {},
   "outputs": [],
   "source": [
    "df3_review = df2_review.dropna()"
   ]
  },
  {
   "cell_type": "code",
   "execution_count": 409,
   "metadata": {},
   "outputs": [],
   "source": [
    "df3_review['rating'] = df3_review['rating'].astype(int)\n",
    "\n",
    "warnings.filterwarnings('ignore')"
   ]
  },
  {
   "cell_type": "code",
   "execution_count": 410,
   "metadata": {},
   "outputs": [
    {
     "data": {
      "text/html": [
       "<div>\n",
       "<style scoped>\n",
       "    .dataframe tbody tr th:only-of-type {\n",
       "        vertical-align: middle;\n",
       "    }\n",
       "\n",
       "    .dataframe tbody tr th {\n",
       "        vertical-align: top;\n",
       "    }\n",
       "\n",
       "    .dataframe thead th {\n",
       "        text-align: right;\n",
       "    }\n",
       "</style>\n",
       "<table border=\"1\" class=\"dataframe\">\n",
       "  <thead>\n",
       "    <tr style=\"text-align: right;\">\n",
       "      <th></th>\n",
       "      <th>username</th>\n",
       "      <th>product_id</th>\n",
       "      <th>rating</th>\n",
       "    </tr>\n",
       "  </thead>\n",
       "  <tbody>\n",
       "    <tr>\n",
       "      <th>0</th>\n",
       "      <td>Chaos Syren</td>\n",
       "      <td>725280</td>\n",
       "      <td>1</td>\n",
       "    </tr>\n",
       "    <tr>\n",
       "      <th>1</th>\n",
       "      <td>Ariman1</td>\n",
       "      <td>328100</td>\n",
       "      <td>1</td>\n",
       "    </tr>\n",
       "    <tr>\n",
       "      <th>2</th>\n",
       "      <td>freakfantom</td>\n",
       "      <td>725280</td>\n",
       "      <td>1</td>\n",
       "    </tr>\n",
       "    <tr>\n",
       "      <th>3</th>\n",
       "      <td>The_Cpt_FROGGY</td>\n",
       "      <td>631920</td>\n",
       "      <td>1</td>\n",
       "    </tr>\n",
       "    <tr>\n",
       "      <th>4</th>\n",
       "      <td>the_maker988</td>\n",
       "      <td>35140</td>\n",
       "      <td>1</td>\n",
       "    </tr>\n",
       "    <tr>\n",
       "      <th>...</th>\n",
       "      <td>...</td>\n",
       "      <td>...</td>\n",
       "      <td>...</td>\n",
       "    </tr>\n",
       "    <tr>\n",
       "      <th>779301</th>\n",
       "      <td>SepticFalcon</td>\n",
       "      <td>252490</td>\n",
       "      <td>4</td>\n",
       "    </tr>\n",
       "    <tr>\n",
       "      <th>779302</th>\n",
       "      <td>Vidaar</td>\n",
       "      <td>252490</td>\n",
       "      <td>5</td>\n",
       "    </tr>\n",
       "    <tr>\n",
       "      <th>779303</th>\n",
       "      <td>Nikolai Belinski</td>\n",
       "      <td>252490</td>\n",
       "      <td>1</td>\n",
       "    </tr>\n",
       "    <tr>\n",
       "      <th>779304</th>\n",
       "      <td>RancorZealot</td>\n",
       "      <td>252490</td>\n",
       "      <td>3</td>\n",
       "    </tr>\n",
       "    <tr>\n",
       "      <th>779305</th>\n",
       "      <td>Jerry</td>\n",
       "      <td>252490</td>\n",
       "      <td>2</td>\n",
       "    </tr>\n",
       "  </tbody>\n",
       "</table>\n",
       "<p>763218 rows × 3 columns</p>\n",
       "</div>"
      ],
      "text/plain": [
       "                username  product_id  rating\n",
       "0            Chaos Syren      725280       1\n",
       "1                Ariman1      328100       1\n",
       "2            freakfantom      725280       1\n",
       "3         The_Cpt_FROGGY      631920       1\n",
       "4           the_maker988       35140       1\n",
       "...                  ...         ...     ...\n",
       "779301      SepticFalcon      252490       4\n",
       "779302            Vidaar      252490       5\n",
       "779303  Nikolai Belinski      252490       1\n",
       "779304      RancorZealot      252490       3\n",
       "779305             Jerry      252490       2\n",
       "\n",
       "[763218 rows x 3 columns]"
      ]
     },
     "execution_count": 410,
     "metadata": {},
     "output_type": "execute_result"
    }
   ],
   "source": [
    "df3_review= df3_review[['username','product_id','rating']]\n",
    "df3_review"
   ]
  },
  {
   "cell_type": "code",
   "execution_count": 412,
   "metadata": {},
   "outputs": [
    {
     "data": {
      "text/plain": [
       "<AxesSubplot:title={'center':'Cantidad de Calificaciones por Rating'}, xlabel='rating', ylabel='count'>"
      ]
     },
     "execution_count": 412,
     "metadata": {},
     "output_type": "execute_result"
    },
    {
     "data": {
      "text/plain": [
       "<Figure size 432x288 with 0 Axes>"
      ]
     },
     "metadata": {},
     "output_type": "display_data"
    },
    {
     "data": {
      "image/png": "[encoded data removed]",
      "text/plain": [
       "<Figure size 432x288 with 1 Axes>"
      ]
     },
     "metadata": {},
     "output_type": "display_data"
    }
   ],
   "source": [
    "fig = plt.figure()\n",
    "fig, ax = plt.subplots(figsize = (6,4))\n",
    "plt.title('Cantidad de Calificaciones por Rating')\n",
    "sns.countplot(data=df3_review, x ='rating')"
   ]
  },
  {
   "cell_type": "markdown",
   "metadata": {},
   "source": [
    "Con esta distribución no equitativa la mayoria del rating queda con el valor de 1"
   ]
  },
  {
   "cell_type": "markdown",
   "metadata": {},
   "source": [
    "_Distribución equitativa del rating: Decido utilizar la siguiente función para realizar una distribución equitativa de los datos_"
   ]
  },
  {
   "cell_type": "code",
   "execution_count": 413,
   "metadata": {},
   "outputs": [],
   "source": [
    "df3_review = df3\n",
    "\n",
    "df3_review['rating'] = pd.qcut(df3_review.hours, 5, labels=['1', '2', '3', '4', '5'])\n",
    "\n",
    "warnings.filterwarnings('ignore')\n"
   ]
  },
  {
   "cell_type": "code",
   "execution_count": 414,
   "metadata": {},
   "outputs": [
    {
     "data": {
      "text/html": [
       "<div>\n",
       "<style scoped>\n",
       "    .dataframe tbody tr th:only-of-type {\n",
       "        vertical-align: middle;\n",
       "    }\n",
       "\n",
       "    .dataframe tbody tr th {\n",
       "        vertical-align: top;\n",
       "    }\n",
       "\n",
       "    .dataframe thead th {\n",
       "        text-align: right;\n",
       "    }\n",
       "</style>\n",
       "<table border=\"1\" class=\"dataframe\">\n",
       "  <thead>\n",
       "    <tr style=\"text-align: right;\">\n",
       "      <th></th>\n",
       "      <th>username</th>\n",
       "      <th>rating</th>\n",
       "      <th>product_id</th>\n",
       "    </tr>\n",
       "  </thead>\n",
       "  <tbody>\n",
       "    <tr>\n",
       "      <th>0</th>\n",
       "      <td>Chaos Syren</td>\n",
       "      <td>1</td>\n",
       "      <td>725280</td>\n",
       "    </tr>\n",
       "    <tr>\n",
       "      <th>1</th>\n",
       "      <td>Ariman1</td>\n",
       "      <td>3</td>\n",
       "      <td>328100</td>\n",
       "    </tr>\n",
       "    <tr>\n",
       "      <th>2</th>\n",
       "      <td>freakfantom</td>\n",
       "      <td>1</td>\n",
       "      <td>725280</td>\n",
       "    </tr>\n",
       "    <tr>\n",
       "      <th>3</th>\n",
       "      <td>The_Cpt_FROGGY</td>\n",
       "      <td>2</td>\n",
       "      <td>631920</td>\n",
       "    </tr>\n",
       "    <tr>\n",
       "      <th>4</th>\n",
       "      <td>the_maker988</td>\n",
       "      <td>2</td>\n",
       "      <td>35140</td>\n",
       "    </tr>\n",
       "    <tr>\n",
       "      <th>...</th>\n",
       "      <td>...</td>\n",
       "      <td>...</td>\n",
       "      <td>...</td>\n",
       "    </tr>\n",
       "    <tr>\n",
       "      <th>779301</th>\n",
       "      <td>SepticFalcon</td>\n",
       "      <td>5</td>\n",
       "      <td>252490</td>\n",
       "    </tr>\n",
       "    <tr>\n",
       "      <th>779302</th>\n",
       "      <td>Vidaar</td>\n",
       "      <td>5</td>\n",
       "      <td>252490</td>\n",
       "    </tr>\n",
       "    <tr>\n",
       "      <th>779303</th>\n",
       "      <td>Nikolai Belinski</td>\n",
       "      <td>4</td>\n",
       "      <td>252490</td>\n",
       "    </tr>\n",
       "    <tr>\n",
       "      <th>779304</th>\n",
       "      <td>RancorZealot</td>\n",
       "      <td>5</td>\n",
       "      <td>252490</td>\n",
       "    </tr>\n",
       "    <tr>\n",
       "      <th>779305</th>\n",
       "      <td>Jerry</td>\n",
       "      <td>5</td>\n",
       "      <td>252490</td>\n",
       "    </tr>\n",
       "  </tbody>\n",
       "</table>\n",
       "<p>763677 rows × 3 columns</p>\n",
       "</div>"
      ],
      "text/plain": [
       "                username rating  product_id\n",
       "0            Chaos Syren      1      725280\n",
       "1                Ariman1      3      328100\n",
       "2            freakfantom      1      725280\n",
       "3         The_Cpt_FROGGY      2      631920\n",
       "4           the_maker988      2       35140\n",
       "...                  ...    ...         ...\n",
       "779301      SepticFalcon      5      252490\n",
       "779302            Vidaar      5      252490\n",
       "779303  Nikolai Belinski      4      252490\n",
       "779304      RancorZealot      5      252490\n",
       "779305             Jerry      5      252490\n",
       "\n",
       "[763677 rows x 3 columns]"
      ]
     },
     "execution_count": 414,
     "metadata": {},
     "output_type": "execute_result"
    }
   ],
   "source": [
    "df3_review = df3_review[['username','rating','product_id']]\n",
    "df3_review"
   ]
  },
  {
   "cell_type": "code",
   "execution_count": 415,
   "metadata": {},
   "outputs": [
    {
     "data": {
      "text/plain": [
       "<AxesSubplot:title={'center':'Cantidad de Calificaciones por Rating'}, xlabel='rating', ylabel='count'>"
      ]
     },
     "execution_count": 415,
     "metadata": {},
     "output_type": "execute_result"
    },
    {
     "data": {
      "text/plain": [
       "<Figure size 432x288 with 0 Axes>"
      ]
     },
     "metadata": {},
     "output_type": "display_data"
    },
    {
     "data": {
      "image/png": "[encoded data removed]",
      "text/plain": [
       "<Figure size 432x288 with 1 Axes>"
      ]
     },
     "metadata": {},
     "output_type": "display_data"
    }
   ],
   "source": [
    "fig = plt.figure()\n",
    "fig, ax = plt.subplots(figsize = (6,4))\n",
    "plt.title('Cantidad de Calificaciones por Rating')\n",
    "sns.countplot(data=df3_review, x ='rating')"
   ]
  },
  {
   "cell_type": "markdown",
   "metadata": {},
   "source": [
    "### _Rating a utilizar_\n",
    "Decido utilizar el rating anterior el cual muestra una distribución equitativa del rating de acuerdo a la cantidad de los datos"
   ]
  },
  {
   "cell_type": "code",
   "execution_count": 416,
   "metadata": {},
   "outputs": [],
   "source": [
    "# Se pasa el campo rating a entero\n",
    "df3_review['rating'] = df3_review['rating'].astype(int)"
   ]
  },
  {
   "cell_type": "markdown",
   "metadata": {},
   "source": [
    "__Eliminamos la columna de `hours`, dejando en su remplazo la confeccionada de `rating`y voy a organizar el dataframe de ordenando los atributos para que queden igual que lo requiere Surprise.__"
   ]
  },
  {
   "cell_type": "code",
   "execution_count": 417,
   "metadata": {},
   "outputs": [],
   "source": [
    "df4_review = df3_review[['username','product_id','rating']]"
   ]
  },
  {
   "cell_type": "code",
   "execution_count": 418,
   "metadata": {},
   "outputs": [],
   "source": [
    "df4_review.to_csv('df4_review_listo.csv', index= False)"
   ]
  },
  {
   "cell_type": "markdown",
   "metadata": {},
   "source": [
    "#### DATA GAMES."
   ]
  },
  {
   "cell_type": "markdown",
   "metadata": {},
   "source": [
    "- Selecciono los features que serán útiles para realizar las recomendaciones y que aporten al realizar la unión con el data frame final del dataframe de reviews, para ello utilizaré las columnas _id y title_"
   ]
  },
  {
   "cell_type": "code",
   "execution_count": 419,
   "metadata": {},
   "outputs": [
    {
     "name": "stdout",
     "output_type": "stream",
     "text": [
      "(32135, 2)\n"
     ]
    },
    {
     "data": {
      "text/html": [
       "<div>\n",
       "<style scoped>\n",
       "    .dataframe tbody tr th:only-of-type {\n",
       "        vertical-align: middle;\n",
       "    }\n",
       "\n",
       "    .dataframe tbody tr th {\n",
       "        vertical-align: top;\n",
       "    }\n",
       "\n",
       "    .dataframe thead th {\n",
       "        text-align: right;\n",
       "    }\n",
       "</style>\n",
       "<table border=\"1\" class=\"dataframe\">\n",
       "  <thead>\n",
       "    <tr style=\"text-align: right;\">\n",
       "      <th></th>\n",
       "      <th>title</th>\n",
       "      <th>id</th>\n",
       "    </tr>\n",
       "  </thead>\n",
       "  <tbody>\n",
       "    <tr>\n",
       "      <th>0</th>\n",
       "      <td>Lost Summoner Kitty</td>\n",
       "      <td>761140.0</td>\n",
       "    </tr>\n",
       "    <tr>\n",
       "      <th>1</th>\n",
       "      <td>Ironbound</td>\n",
       "      <td>643980.0</td>\n",
       "    </tr>\n",
       "    <tr>\n",
       "      <th>2</th>\n",
       "      <td>Real Pool 3D - Poolians</td>\n",
       "      <td>670290.0</td>\n",
       "    </tr>\n",
       "    <tr>\n",
       "      <th>3</th>\n",
       "      <td>å¼¹ç¸äºº2222</td>\n",
       "      <td>767400.0</td>\n",
       "    </tr>\n",
       "    <tr>\n",
       "      <th>4</th>\n",
       "      <td>NaN</td>\n",
       "      <td>773570.0</td>\n",
       "    </tr>\n",
       "  </tbody>\n",
       "</table>\n",
       "</div>"
      ],
      "text/plain": [
       "                     title        id\n",
       "0      Lost Summoner Kitty  761140.0\n",
       "1                Ironbound  643980.0\n",
       "2  Real Pool 3D - Poolians  670290.0\n",
       "3            å¼¹ç¸äºº2222  767400.0\n",
       "4                      NaN  773570.0"
      ]
     },
     "execution_count": 419,
     "metadata": {},
     "output_type": "execute_result"
    }
   ],
   "source": [
    "df_games1 = pd.read_csv('new_data_games.csv', encoding = \"ISO-8859-1\", usecols = [4,13])\n",
    "print(df_games1.shape)\n",
    "df_games1.head()"
   ]
  },
  {
   "cell_type": "markdown",
   "metadata": {},
   "source": [
    "__Intercambiando las columnas, y renombrando la de `id`, a fin de que coincida con el dataset de Reviews donde se nombra \"product_id\".__"
   ]
  },
  {
   "cell_type": "code",
   "execution_count": 420,
   "metadata": {},
   "outputs": [
    {
     "data": {
      "text/html": [
       "<div>\n",
       "<style scoped>\n",
       "    .dataframe tbody tr th:only-of-type {\n",
       "        vertical-align: middle;\n",
       "    }\n",
       "\n",
       "    .dataframe tbody tr th {\n",
       "        vertical-align: top;\n",
       "    }\n",
       "\n",
       "    .dataframe thead th {\n",
       "        text-align: right;\n",
       "    }\n",
       "</style>\n",
       "<table border=\"1\" class=\"dataframe\">\n",
       "  <thead>\n",
       "    <tr style=\"text-align: right;\">\n",
       "      <th></th>\n",
       "      <th>id</th>\n",
       "      <th>title</th>\n",
       "    </tr>\n",
       "  </thead>\n",
       "  <tbody>\n",
       "    <tr>\n",
       "      <th>0</th>\n",
       "      <td>761140.0</td>\n",
       "      <td>Lost Summoner Kitty</td>\n",
       "    </tr>\n",
       "    <tr>\n",
       "      <th>1</th>\n",
       "      <td>643980.0</td>\n",
       "      <td>Ironbound</td>\n",
       "    </tr>\n",
       "    <tr>\n",
       "      <th>2</th>\n",
       "      <td>670290.0</td>\n",
       "      <td>Real Pool 3D - Poolians</td>\n",
       "    </tr>\n",
       "    <tr>\n",
       "      <th>3</th>\n",
       "      <td>767400.0</td>\n",
       "      <td>å¼¹ç¸äºº2222</td>\n",
       "    </tr>\n",
       "    <tr>\n",
       "      <th>4</th>\n",
       "      <td>773570.0</td>\n",
       "      <td>NaN</td>\n",
       "    </tr>\n",
       "  </tbody>\n",
       "</table>\n",
       "</div>"
      ],
      "text/plain": [
       "         id                    title\n",
       "0  761140.0      Lost Summoner Kitty\n",
       "1  643980.0                Ironbound\n",
       "2  670290.0  Real Pool 3D - Poolians\n",
       "3  767400.0            å¼¹ç¸äºº2222\n",
       "4  773570.0                      NaN"
      ]
     },
     "execution_count": 420,
     "metadata": {},
     "output_type": "execute_result"
    }
   ],
   "source": [
    "df_games1 = df_games1[['id','title']]\n",
    "df_games1.head()"
   ]
  },
  {
   "cell_type": "code",
   "execution_count": 421,
   "metadata": {},
   "outputs": [
    {
     "data": {
      "text/html": [
       "<div>\n",
       "<style scoped>\n",
       "    .dataframe tbody tr th:only-of-type {\n",
       "        vertical-align: middle;\n",
       "    }\n",
       "\n",
       "    .dataframe tbody tr th {\n",
       "        vertical-align: top;\n",
       "    }\n",
       "\n",
       "    .dataframe thead th {\n",
       "        text-align: right;\n",
       "    }\n",
       "</style>\n",
       "<table border=\"1\" class=\"dataframe\">\n",
       "  <thead>\n",
       "    <tr style=\"text-align: right;\">\n",
       "      <th></th>\n",
       "      <th>product_id</th>\n",
       "      <th>title</th>\n",
       "    </tr>\n",
       "  </thead>\n",
       "  <tbody>\n",
       "    <tr>\n",
       "      <th>0</th>\n",
       "      <td>761140.0</td>\n",
       "      <td>Lost Summoner Kitty</td>\n",
       "    </tr>\n",
       "    <tr>\n",
       "      <th>1</th>\n",
       "      <td>643980.0</td>\n",
       "      <td>Ironbound</td>\n",
       "    </tr>\n",
       "    <tr>\n",
       "      <th>2</th>\n",
       "      <td>670290.0</td>\n",
       "      <td>Real Pool 3D - Poolians</td>\n",
       "    </tr>\n",
       "    <tr>\n",
       "      <th>3</th>\n",
       "      <td>767400.0</td>\n",
       "      <td>å¼¹ç¸äºº2222</td>\n",
       "    </tr>\n",
       "    <tr>\n",
       "      <th>4</th>\n",
       "      <td>773570.0</td>\n",
       "      <td>NaN</td>\n",
       "    </tr>\n",
       "    <tr>\n",
       "      <th>...</th>\n",
       "      <td>...</td>\n",
       "      <td>...</td>\n",
       "    </tr>\n",
       "    <tr>\n",
       "      <th>32130</th>\n",
       "      <td>773640.0</td>\n",
       "      <td>Colony On Mars</td>\n",
       "    </tr>\n",
       "    <tr>\n",
       "      <th>32131</th>\n",
       "      <td>733530.0</td>\n",
       "      <td>LOGistICAL: South Africa</td>\n",
       "    </tr>\n",
       "    <tr>\n",
       "      <th>32132</th>\n",
       "      <td>610660.0</td>\n",
       "      <td>Russian Roads</td>\n",
       "    </tr>\n",
       "    <tr>\n",
       "      <th>32133</th>\n",
       "      <td>658870.0</td>\n",
       "      <td>EXIT 2 - Directions</td>\n",
       "    </tr>\n",
       "    <tr>\n",
       "      <th>32134</th>\n",
       "      <td>681550.0</td>\n",
       "      <td>NaN</td>\n",
       "    </tr>\n",
       "  </tbody>\n",
       "</table>\n",
       "<p>32135 rows × 2 columns</p>\n",
       "</div>"
      ],
      "text/plain": [
       "       product_id                     title\n",
       "0        761140.0       Lost Summoner Kitty\n",
       "1        643980.0                 Ironbound\n",
       "2        670290.0   Real Pool 3D - Poolians\n",
       "3        767400.0             å¼¹ç¸äºº2222\n",
       "4        773570.0                       NaN\n",
       "...           ...                       ...\n",
       "32130    773640.0            Colony On Mars\n",
       "32131    733530.0  LOGistICAL: South Africa\n",
       "32132    610660.0             Russian Roads\n",
       "32133    658870.0       EXIT 2 - Directions\n",
       "32134    681550.0                       NaN\n",
       "\n",
       "[32135 rows x 2 columns]"
      ]
     },
     "execution_count": 421,
     "metadata": {},
     "output_type": "execute_result"
    }
   ],
   "source": [
    "df_games2 = df_games1.rename(columns={'id':'product_id'})\n",
    "df_games2"
   ]
  },
  {
   "cell_type": "markdown",
   "metadata": {},
   "source": [
    "#### Preprocesamiento de datos (Tratamiento de datos nulos)"
   ]
  },
  {
   "cell_type": "code",
   "execution_count": 422,
   "metadata": {},
   "outputs": [
    {
     "data": {
      "text/plain": [
       "product_id       2\n",
       "title         2050\n",
       "dtype: int64"
      ]
     },
     "execution_count": 422,
     "metadata": {},
     "output_type": "execute_result"
    }
   ],
   "source": [
    "df_games2.isnull().sum()"
   ]
  },
  {
   "cell_type": "markdown",
   "metadata": {},
   "source": [
    "#### Los valores fatantes representan el 6,4% del total de instancias. Se procede a eliminar todos ellos, ya que sin `product_id` no podemos cruzar los datos con el dataframe de Reviews, y sin `title` no podremos realizar las recomendaciones."
   ]
  },
  {
   "cell_type": "code",
   "execution_count": 423,
   "metadata": {},
   "outputs": [
    {
     "name": "stdout",
     "output_type": "stream",
     "text": [
      "product_id    0\n",
      "title         0\n",
      "dtype: int64\n",
      "       product_id                     title\n",
      "0        761140.0       Lost Summoner Kitty\n",
      "1        643980.0                 Ironbound\n",
      "2        670290.0   Real Pool 3D - Poolians\n",
      "3        767400.0             å¼¹ç¸äºº2222\n",
      "5        772540.0     Battle Royale Trainer\n",
      "...           ...                       ...\n",
      "32129    745400.0              Kebab it Up!\n",
      "32130    773640.0            Colony On Mars\n",
      "32131    733530.0  LOGistICAL: South Africa\n",
      "32132    610660.0             Russian Roads\n",
      "32133    658870.0       EXIT 2 - Directions\n",
      "\n",
      "[30084 rows x 2 columns]\n"
     ]
    }
   ],
   "source": [
    "df_games3 = df_games2.dropna()\n",
    "print(df_games3.isnull().sum())\n",
    "print(df_games3)"
   ]
  },
  {
   "cell_type": "markdown",
   "metadata": {},
   "source": [
    "### Concatenación: Organizando el dataframe final"
   ]
  },
  {
   "cell_type": "markdown",
   "metadata": {},
   "source": [
    "__Indexacion - Indexamos `product_id` a fin de poder realizar el cruce con el Dataset de Review__"
   ]
  },
  {
   "cell_type": "code",
   "execution_count": 424,
   "metadata": {},
   "outputs": [
    {
     "data": {
      "text/plain": [
       "product_id    float64\n",
       "title          object\n",
       "dtype: object"
      ]
     },
     "execution_count": 424,
     "metadata": {},
     "output_type": "execute_result"
    }
   ],
   "source": [
    "df_games3.dtypes"
   ]
  },
  {
   "cell_type": "code",
   "execution_count": 425,
   "metadata": {},
   "outputs": [],
   "source": [
    "#Pasamos el campo product_id a entero para realizar la indexación\n",
    "df_games3[('product_id')] = df_games3['product_id'].astype(int)"
   ]
  },
  {
   "cell_type": "code",
   "execution_count": 426,
   "metadata": {},
   "outputs": [
    {
     "data": {
      "text/html": [
       "<div>\n",
       "<style scoped>\n",
       "    .dataframe tbody tr th:only-of-type {\n",
       "        vertical-align: middle;\n",
       "    }\n",
       "\n",
       "    .dataframe tbody tr th {\n",
       "        vertical-align: top;\n",
       "    }\n",
       "\n",
       "    .dataframe thead th {\n",
       "        text-align: right;\n",
       "    }\n",
       "</style>\n",
       "<table border=\"1\" class=\"dataframe\">\n",
       "  <thead>\n",
       "    <tr style=\"text-align: right;\">\n",
       "      <th></th>\n",
       "      <th>title</th>\n",
       "    </tr>\n",
       "    <tr>\n",
       "      <th>product_id</th>\n",
       "      <th></th>\n",
       "    </tr>\n",
       "  </thead>\n",
       "  <tbody>\n",
       "    <tr>\n",
       "      <th>761140</th>\n",
       "      <td>Lost Summoner Kitty</td>\n",
       "    </tr>\n",
       "    <tr>\n",
       "      <th>643980</th>\n",
       "      <td>Ironbound</td>\n",
       "    </tr>\n",
       "    <tr>\n",
       "      <th>670290</th>\n",
       "      <td>Real Pool 3D - Poolians</td>\n",
       "    </tr>\n",
       "    <tr>\n",
       "      <th>767400</th>\n",
       "      <td>å¼¹ç¸äºº2222</td>\n",
       "    </tr>\n",
       "    <tr>\n",
       "      <th>772540</th>\n",
       "      <td>Battle Royale Trainer</td>\n",
       "    </tr>\n",
       "    <tr>\n",
       "      <th>...</th>\n",
       "      <td>...</td>\n",
       "    </tr>\n",
       "    <tr>\n",
       "      <th>745400</th>\n",
       "      <td>Kebab it Up!</td>\n",
       "    </tr>\n",
       "    <tr>\n",
       "      <th>773640</th>\n",
       "      <td>Colony On Mars</td>\n",
       "    </tr>\n",
       "    <tr>\n",
       "      <th>733530</th>\n",
       "      <td>LOGistICAL: South Africa</td>\n",
       "    </tr>\n",
       "    <tr>\n",
       "      <th>610660</th>\n",
       "      <td>Russian Roads</td>\n",
       "    </tr>\n",
       "    <tr>\n",
       "      <th>658870</th>\n",
       "      <td>EXIT 2 - Directions</td>\n",
       "    </tr>\n",
       "  </tbody>\n",
       "</table>\n",
       "<p>30084 rows × 1 columns</p>\n",
       "</div>"
      ],
      "text/plain": [
       "                               title\n",
       "product_id                          \n",
       "761140           Lost Summoner Kitty\n",
       "643980                     Ironbound\n",
       "670290       Real Pool 3D - Poolians\n",
       "767400                 å¼¹ç¸äºº2222\n",
       "772540         Battle Royale Trainer\n",
       "...                              ...\n",
       "745400                  Kebab it Up!\n",
       "773640                Colony On Mars\n",
       "733530      LOGistICAL: South Africa\n",
       "610660                 Russian Roads\n",
       "658870           EXIT 2 - Directions\n",
       "\n",
       "[30084 rows x 1 columns]"
      ]
     },
     "execution_count": 426,
     "metadata": {},
     "output_type": "execute_result"
    }
   ],
   "source": [
    "df_games1 = df_games3.set_index('product_id', drop=True)\n",
    "df_games1"
   ]
  },
  {
   "cell_type": "code",
   "execution_count": 427,
   "metadata": {},
   "outputs": [
    {
     "data": {
      "text/plain": [
       "title    object\n",
       "dtype: object"
      ]
     },
     "execution_count": 427,
     "metadata": {},
     "output_type": "execute_result"
    }
   ],
   "source": [
    "df_games1.dtypes"
   ]
  },
  {
   "cell_type": "markdown",
   "metadata": {},
   "source": [
    "##### Luego, el tipo de dato de `pruduct_id` y `title` resultan ser **object**, siendo acorde para llevar a cabo nuestras recomendaciones a posteriori."
   ]
  },
  {
   "cell_type": "markdown",
   "metadata": {},
   "source": [
    "_Eliminamos los juegos repetidos, buscando los valores de product_id que están duplicados_"
   ]
  },
  {
   "cell_type": "code",
   "execution_count": 328,
   "metadata": {},
   "outputs": [
    {
     "data": {
      "text/plain": [
       "(30084, 1)"
      ]
     },
     "execution_count": 328,
     "metadata": {},
     "output_type": "execute_result"
    }
   ],
   "source": [
    "#Tamaño del nuevo data set\n",
    "df_games1.shape"
   ]
  },
  {
   "cell_type": "code",
   "execution_count": 428,
   "metadata": {},
   "outputs": [
    {
     "data": {
      "text/plain": [
       "(30083, 1)"
      ]
     },
     "execution_count": 428,
     "metadata": {},
     "output_type": "execute_result"
    }
   ],
   "source": [
    "df_games1 = df_games1[~df_games1.index.duplicated(keep='first')]\n",
    "df_games1.shape"
   ]
  },
  {
   "cell_type": "markdown",
   "metadata": {},
   "source": [
    "_Solo se borra un registro lo cual indica que solo había un juego duplicado_"
   ]
  },
  {
   "cell_type": "markdown",
   "metadata": {},
   "source": [
    "__Con el preprocesamiento anterior, obtenemos el dataset de GAMES final, con el cual vamos a realizar el cruce con el dataset de REVIEWS para empezar a trabajar con un dataset que nos permitira conocer la información de los gustos de los usuarios sobre los juegos y conocer los nombres de esos juegos.__"
   ]
  },
  {
   "cell_type": "markdown",
   "metadata": {},
   "source": [
    "__¿Cuáles son los juegos más populares? ¿Cuántas calificaciones tienen? ¿Y los juegos menos populares?__"
   ]
  },
  {
   "cell_type": "code",
   "execution_count": 429,
   "metadata": {},
   "outputs": [
    {
     "data": {
      "text/plain": [
       "title\n",
       "Team Fortress 2                      14939\n",
       "Rust                                  9341\n",
       "Borderlands 2                         7265\n",
       "Fallout 4                             6987\n",
       "Grand Theft Auto V                    5895\n",
       "                                     ...  \n",
       "Crystal Picnic                           1\n",
       "The Perks of Being a Wallflower          1\n",
       "My Little Kitties                        1\n",
       "Japanese Women - Animated Jigsaws        1\n",
       "DP Animation Maker                       1\n",
       "Name: product_id, Length: 12618, dtype: int64"
      ]
     },
     "execution_count": 429,
     "metadata": {},
     "output_type": "execute_result"
    }
   ],
   "source": [
    "PopularidadJuegos = df4_review.product_id.value_counts()\n",
    "PopularidadJuegos.index = df_games1.loc[PopularidadJuegos.index].title\n",
    "PopularidadJuegos"
   ]
  },
  {
   "cell_type": "markdown",
   "metadata": {},
   "source": [
    "El juego con mayor numero de reseñas es TEAM FORTRESS 2 con 14939 reseñas, le sigue RUST con 9341 reseñas\n",
    "Los juegos con menos reseñas son My Little Kitties, Japanese Women, DP Amination Maker"
   ]
  },
  {
   "cell_type": "markdown",
   "metadata": {},
   "source": [
    "__Modelo Benchmark: Para realizar el sistema de recomendacion con el metodo de filtro colaborativo vamos a usar la libreria Surprise.__"
   ]
  },
  {
   "cell_type": "markdown",
   "metadata": {},
   "source": [
    "_Voy a utilizar como Benchmark al modelo que utiliza como referencia la libreria Surprise donde aplica sus algoritmos a un dataset de peliculas.\n",
    "El rating utilizado es de 1 a 5. Igual que el que utilizaremos nosotros.\n",
    "El algoritmo utilizado es AlgoBase.\n",
    "El RMSE obtenido es 1.5_"
   ]
  },
  {
   "cell_type": "markdown",
   "metadata": {},
   "source": [
    "### C. Modelo de Machine Learning"
   ]
  },
  {
   "cell_type": "markdown",
   "metadata": {},
   "source": [
    "#### MODELO SVD #### \n",
    "__Hay muchos algoritmos en la libreria Surprise. Voy a utilizar SVD++ ya que presenta buen performance en el dataset de peliculas que utiliza Surprise como referencia__"
   ]
  },
  {
   "cell_type": "code",
   "execution_count": 433,
   "metadata": {},
   "outputs": [],
   "source": [
    "reader = Reader(rating_scale=(1, 5))\n",
    "\n",
    "data = Dataset.load_from_df(df4_review, reader)\n",
    "\n",
    "trainset, testset = train_test_split(data, test_size=.25)\n",
    "\n",
    "algo = SVDpp() \n",
    "\n",
    "algo.fit(trainset)\n",
    "\n",
    "predictions = algo.test(testset)"
   ]
  },
  {
   "cell_type": "code",
   "execution_count": 434,
   "metadata": {},
   "outputs": [
    {
     "name": "stdout",
     "output_type": "stream",
     "text": [
      "RMSE: 1.1520\n"
     ]
    },
    {
     "data": {
      "text/plain": [
       "1.1520098409084945"
      ]
     },
     "execution_count": 434,
     "metadata": {},
     "output_type": "execute_result"
    }
   ],
   "source": [
    "from surprise import accuracy\n",
    "\n",
    "accuracy.rmse(predictions)"
   ]
  },
  {
   "cell_type": "markdown",
   "metadata": {},
   "source": [
    "__Con SVD++ con hiperparametros por default da un RMSE de df4_review: 1.1520__"
   ]
  },
  {
   "cell_type": "markdown",
   "metadata": {},
   "source": [
    "### - Cross Validation"
   ]
  },
  {
   "cell_type": "code",
   "execution_count": 346,
   "metadata": {},
   "outputs": [
    {
     "data": {
      "text/plain": [
       "{'test_rmse': array([1.14800064, 1.15186154, 1.15339272, 1.15213188, 1.15246194]),\n",
       " 'test_mae': array([0.94526728, 0.94888496, 0.95123233, 0.95048039, 0.94961407]),\n",
       " 'fit_time': (71.76743936538696,\n",
       "  70.25347113609314,\n",
       "  70.73297953605652,\n",
       "  78.32950377464294,\n",
       "  73.08798456192017),\n",
       " 'test_time': (1.8279314041137695,\n",
       "  1.9172043800354004,\n",
       "  1.8536970615386963,\n",
       "  1.8880035877227783,\n",
       "  2.1840016841888428)}"
      ]
     },
     "execution_count": 346,
     "metadata": {},
     "output_type": "execute_result"
    }
   ],
   "source": [
    "reader = Reader(rating_scale=(1, 5))\n",
    "\n",
    "data = Dataset.load_from_df(df4_review, reader)\n",
    "\n",
    "algo = SVDpp()\n",
    "\n",
    "cross_validate(algo, data, cv=5)"
   ]
  },
  {
   "cell_type": "markdown",
   "metadata": {},
   "source": [
    "__Con SVD++ con hiperparametros por default y CrossValidation de 5: RMSE de df4_review: 1.14__"
   ]
  },
  {
   "cell_type": "markdown",
   "metadata": {},
   "source": [
    "### - GridSearch"
   ]
  },
  {
   "cell_type": "code",
   "execution_count": 349,
   "metadata": {},
   "outputs": [],
   "source": [
    "from surprise.model_selection import GridSearchCV\n",
    "\n",
    "reader = Reader(rating_scale=(1, 5))\n",
    "\n",
    "data = Dataset.load_from_df(df4_review, reader)\n",
    "\n",
    "algo = SVDpp()\n",
    "\n",
    "param_grid = {'n_factors': [5,50],'n_epochs': [5, 10,20], 'lr_all': [0.001, 0.002, 0.005],\n",
    "              'reg_all': [0.002, 0.02, 0.2]}\n",
    "\n",
    "gs = GridSearchCV(SVD, param_grid, measures=['rmse'], cv=3, n_jobs = -1)\n",
    "\n",
    "gs.fit(data)"
   ]
  },
  {
   "cell_type": "code",
   "execution_count": 350,
   "metadata": {},
   "outputs": [
    {
     "name": "stdout",
     "output_type": "stream",
     "text": [
      "1.0993347306085164\n",
      "{'n_factors': 5, 'n_epochs': 20, 'lr_all': 0.005, 'reg_all': 0.02}\n"
     ]
    }
   ],
   "source": [
    "print(gs.best_score['rmse'])\n",
    "print(gs.best_params['rmse'])"
   ]
  },
  {
   "cell_type": "markdown",
   "metadata": {},
   "source": [
    "__Con SVD++ con GridSearch:__ RMSE de df4_review: 1.09"
   ]
  },
  {
   "cell_type": "markdown",
   "metadata": {},
   "source": [
    "### Conclusiones Generales"
   ]
  },
  {
   "cell_type": "markdown",
   "metadata": {},
   "source": [
    "#### Viendo los mejores RMSE que obtuvimos observamos que:\n",
    "- __Aplicando GridSearch al dataset df4_review , da un mejor RMSE (1.09).__"
   ]
  },
  {
   "cell_type": "markdown",
   "metadata": {},
   "source": [
    "#### Hagamos otro analisis pero con uno de los dos df creados como demo, donde la distribucion del rating fue solo optando por tomar el valor máximo de horas (20573), y lo dividiamos en 5 Bins. "
   ]
  },
  {
   "cell_type": "code",
   "execution_count": 435,
   "metadata": {},
   "outputs": [],
   "source": [
    "bins = [0, 4114.6, 8229.2, 12343.8, 16458.4, 20573]\n",
    "labels =[1,2,3,4,5]\n",
    "\n",
    "df3['rating'] = pd.cut(df3['hours'], bins,labels=labels)\n",
    "\n",
    "warnings.filterwarnings('ignore')"
   ]
  },
  {
   "cell_type": "code",
   "execution_count": 436,
   "metadata": {},
   "outputs": [],
   "source": [
    "df4=df3.dropna()"
   ]
  },
  {
   "cell_type": "code",
   "execution_count": 437,
   "metadata": {},
   "outputs": [],
   "source": [
    "df4['rating'] = df4['rating'].astype(int)\n",
    "\n",
    "warnings.filterwarnings('ignore')"
   ]
  },
  {
   "cell_type": "code",
   "execution_count": 438,
   "metadata": {},
   "outputs": [],
   "source": [
    "df4= df4[['username','product_id','rating']]"
   ]
  },
  {
   "cell_type": "code",
   "execution_count": 439,
   "metadata": {},
   "outputs": [],
   "source": [
    "reader = Reader(rating_scale=(1, 5))\n",
    "\n",
    "data = Dataset.load_from_df(df4, reader)\n",
    "\n",
    "trainset, testset = train_test_split(data, test_size=.25)\n",
    "\n",
    "algo = SVDpp() \n",
    "\n",
    "algo.fit(trainset)\n",
    "\n",
    "predictions = algo.test(testset)"
   ]
  },
  {
   "cell_type": "code",
   "execution_count": 440,
   "metadata": {},
   "outputs": [
    {
     "name": "stdout",
     "output_type": "stream",
     "text": [
      "RMSE: 0.0123\n"
     ]
    },
    {
     "data": {
      "text/plain": [
       "0.012293386158009428"
      ]
     },
     "execution_count": 440,
     "metadata": {},
     "output_type": "execute_result"
    }
   ],
   "source": [
    "from surprise import accuracy\n",
    "\n",
    "accuracy.rmse(predictions)"
   ]
  },
  {
   "cell_type": "markdown",
   "metadata": {},
   "source": [
    "- #### Con esta modalidad de clasificacion de rating el RMSE que logramos es de 0.0123. Lo que podemos deducir es que el atributo \"hours\" y su distribucion muy asimetrica es determinante para este analisis y puede llegar a estar distorsionando mucho los resultados de RMSE.\n",
    "\n",
    "- #### Es probable que un RMSE de 1.09 lo consideremos un buen resultado para este sistema de recomendacion; pero que en la practica no haga buenas recomendaciones. "
   ]
  },
  {
   "cell_type": "markdown",
   "metadata": {},
   "source": [
    "#### Hay dos preguntas que no tienen una respuesta facil de acuerdo a la información que se tiene __en los jugadores que jugaron 0 hs__. Porque un usuario no jugo ni una hora un juego que compro, y porque escribio una reseña sobre un juego que no jugo? Aca seguramente tengamos que respondernos si el usuario lo compro por la plataforma Steam, pero decidio bajarlo a la pc y jugarlo por afuera de la plataforma impidiendo el conteo de las horas jugadas.\n",
    "\n",
    "#### Las horas jugadas son contadas desde que el usuario compro el juego; pero logicamente no todos los usuarios compraron el juego en la misma fecha. Como los estamos considerando hasta ahora, si dos usuarios jugaron 100 hs un juego es lo mismo si lo compro hace un año que hace un mes. Tendriamos que normalizar esta distorsion de alguna manera.\n",
    "\n",
    "#### No se está teniendo en cuenta la fecha en que el juego se liberó en la plataforma, un juego recién liberado es lógico tenga menos horas de usuarios jugadas que uno que lleve muchos años desde que se liberó"
   ]
  },
  {
   "cell_type": "markdown",
   "metadata": {},
   "source": [
    "### D. INVESTIGACION"
   ]
  },
  {
   "cell_type": "markdown",
   "metadata": {},
   "source": [
    "#### - La utilizacion de procesamiento de lenguaje natural para asignar un puntaje a cada reseña en funcion de la critica escrita que realizo.\n",
    "\n",
    "#### - Realizar un un analisis basada en contenidos con el dataset de games, y utilizando los atributos de \"sentiment\", el puntaje de \"metascort\" y la fecha de liberación del juego."
   ]
  }
 ],
 "metadata": {
  "kernelspec": {
   "display_name": "Python 3",
   "language": "python",
   "name": "python3"
  },
  "language_info": {
   "codemirror_mode": {
    "name": "ipython",
    "version": 3
   },
   "file_extension": ".py",
   "mimetype": "text/x-python",
   "name": "python",
   "nbconvert_exporter": "python",
   "pygments_lexer": "ipython3",
   "version": "3.8.3"
  }
 },
 "nbformat": 4,
 "nbformat_minor": 4
}
